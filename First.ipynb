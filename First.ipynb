{
  "nbformat": 4,
  "nbformat_minor": 0,
  "metadata": {
    "colab": {
      "provenance": [],
      "authorship_tag": "ABX9TyNpglRuFnL3oTXagNbu15hq",
      "include_colab_link": true
    },
    "kernelspec": {
      "name": "python3",
      "display_name": "Python 3"
    },
    "language_info": {
      "name": "python"
    }
  },
  "cells": [
    {
      "cell_type": "markdown",
      "metadata": {
        "id": "view-in-github",
        "colab_type": "text"
      },
      "source": [
        "<a href=\"https://colab.research.google.com/github/alexk2206/Data_Driven_Fantasy_Football/blob/dev/First.ipynb\" target=\"_parent\"><img src=\"https://colab.research.google.com/assets/colab-badge.svg\" alt=\"Open In Colab\"/></a>"
      ]
    },
    {
      "cell_type": "code",
      "execution_count": 3,
      "metadata": {
        "id": "F6uLQhwx4qnM"
      },
      "outputs": [],
      "source": [
        "import numpy as np\n",
        "import pandas as pd\n",
        "#!pip install gurobipy\n",
        "import gurobipy as gp\n",
        "from gurobipy import GRB"
      ]
    },
    {
      "cell_type": "code",
      "source": [
        "# Load the CSV file, skipping problematic lines\n",
        "\n",
        "file_path = '/content/FantasyPros_2024_Overall_ADP_Rankings.csv'\n",
        "players_df = pd.read_csv(file_path, on_bad_lines='skip')  # or 'warn'\n",
        "\n",
        "# Select relevant columns\n",
        "players_df_subset = players_df[['Rank', 'Player', 'Team', 'Bye', 'POS', 'AVG']]\n",
        "\n",
        "# Compute Value: highest for rank 1, lowest for last rank\n",
        "max_rank = players_df_subset['Rank'].max()\n",
        "players_df_subset['Value'] = max_rank - players_df_subset['Rank'] + 1\n",
        "\n",
        "# Preview the result\n",
        "print(players_df_subset.head())"
      ],
      "metadata": {
        "colab": {
          "base_uri": "https://localhost:8080/"
        },
        "id": "VBeDP-dY62bu",
        "outputId": "26bd4798-cbc8-461a-aef7-3fcdb791e4d8"
      },
      "execution_count": 8,
      "outputs": [
        {
          "output_type": "stream",
          "name": "stdout",
          "text": [
            "   Rank               Player Team Bye  POS  AVG  Value\n",
            "0   1.0  Christian McCaffrey   SF  9   RB1  1.0  948.0\n",
            "1   2.0          CeeDee Lamb  DAL   7  WR1  2.6  947.0\n",
            "2   3.0          Tyreek Hill  MIA   6  WR2  3.2  946.0\n",
            "3   4.0       Bijan Robinson  ATL  12  RB2  5.0  945.0\n",
            "4   5.0          Breece Hall  NYJ  12  RB3  5.4  944.0\n"
          ]
        },
        {
          "output_type": "stream",
          "name": "stderr",
          "text": [
            "<ipython-input-8-97671b2087cc>:11: SettingWithCopyWarning: \n",
            "A value is trying to be set on a copy of a slice from a DataFrame.\n",
            "Try using .loc[row_indexer,col_indexer] = value instead\n",
            "\n",
            "See the caveats in the documentation: https://pandas.pydata.org/pandas-docs/stable/user_guide/indexing.html#returning-a-view-versus-a-copy\n",
            "  players_df_subset['Value'] = max_rank - players_df_subset['Rank'] + 1\n"
          ]
        }
      ]
    },
    {
      "cell_type": "code",
      "source": [
        "\n",
        "# Roster constraints\n",
        "positions = {'QB': 1, 'RB': 2, 'WR': 2, 'TE': 1, 'DST': 1}\n",
        "salary_cap = 50000\n",
        "\n",
        "# Create model\n",
        "m = gp.Model(\"fantasy_draft\")\n",
        "\n",
        "# Decision variables: x[p] = 1 if player p is selected\n",
        "x = {}\n",
        "for p in players:\n",
        "    x[p['name']] = m.addVar(vtype=GRB.BINARY, name=p['name'])\n",
        "\n",
        "# Objective: maximize total projected points\n",
        "m.setObjective(gp.quicksum(p['proj_points'] * x[p['name']] for p in players), GRB.MAXIMIZE)\n",
        "\n",
        "# Position constraints\n",
        "for pos, count in positions.items():\n",
        "    m.addConstr(\n",
        "        gp.quicksum(x[p['name']] for p in players if p['position'] == pos) == count,\n",
        "        name=f\"{pos}_constraint\"\n",
        "    )\n",
        "\n",
        "# Salary cap constraint\n",
        "m.addConstr(\n",
        "    gp.quicksum(p['salary'] * x[p['name']] for p in players) <= salary_cap,\n",
        "    name=\"salary_cap\"\n",
        ")\n",
        "\n",
        "# Solve\n",
        "m.optimize()\n",
        "\n",
        "# Output selected players\n",
        "print(\"Drafted Players:\")\n",
        "for p in players:\n",
        "    if x[p['name']].X > 0.5:\n",
        "        print(f\"{p['name']} ({p['position']}) - Projected Points: {p['proj_points']} - Salary: {p['salary']}\")\n"
      ],
      "metadata": {
        "id": "qP7ULXY75bbZ"
      },
      "execution_count": null,
      "outputs": []
    }
  ]
}