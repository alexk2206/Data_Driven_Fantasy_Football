{
  "nbformat": 4,
  "nbformat_minor": 0,
  "metadata": {
    "colab": {
      "provenance": [],
      "authorship_tag": "ABX9TyPDMGRpO05aRMCpQBRtlREc",
      "include_colab_link": true
    },
    "kernelspec": {
      "name": "python3",
      "display_name": "Python 3"
    },
    "language_info": {
      "name": "python"
    }
  },
  "cells": [
    {
      "cell_type": "markdown",
      "metadata": {
        "id": "view-in-github",
        "colab_type": "text"
      },
      "source": [
        "<a href=\"https://colab.research.google.com/github/alexk2206/Data_Driven_Fantasy_Football/blob/dev/Mixed_Integer_Problem_for_Draft_Optimization.ipynb\" target=\"_parent\"><img src=\"https://colab.research.google.com/assets/colab-badge.svg\" alt=\"Open In Colab\"/></a>"
      ]
    },
    {
      "cell_type": "markdown",
      "source": [
        "# 1  Initialisierung und Konfiguration"
      ],
      "metadata": {
        "id": "zHvxkZEnKHSO"
      }
    },
    {
      "cell_type": "markdown",
      "source": [
        "## 1.1 Bibliotheken installieren und laden\n"
      ],
      "metadata": {
        "id": "bYSnju5zJFn2"
      }
    },
    {
      "cell_type": "code",
      "execution_count": 132,
      "metadata": {
        "id": "OOi4gsAzGkxy"
      },
      "outputs": [],
      "source": [
        "try:\n",
        "    import mip\n",
        "except ImportError:\n",
        "    import sys\n",
        "    !{sys.executable} -m pip install mip\n",
        "import pandas as pd\n",
        "import numpy as np\n",
        "import re\n",
        "import random\n",
        "from mip import Model, BINARY, CONTINUOUS, xsum, maximize"
      ]
    },
    {
      "cell_type": "markdown",
      "source": [
        "## 1.2 Liga-Parameter und Rahmenbedingungen definieren"
      ],
      "metadata": {
        "id": "O5zfn8FeKB7Y"
      }
    },
    {
      "cell_type": "code",
      "source": [
        "year = 2024\n",
        "num_teams = 12\n",
        "num_rounds = 15\n",
        "num_weeks = 17\n",
        "allowed_positions = {'QB', 'RB', 'WR', 'TE', 'K', 'DST'}\n",
        "lineup_req = {'QB': 1, 'RB': 2, 'WR': 2, 'TE': 1, 'FLEX': 1, 'K': 1, 'DST': 1}"
      ],
      "metadata": {
        "id": "yqiYtqZwKYRL"
      },
      "execution_count": 133,
      "outputs": []
    },
    {
      "cell_type": "markdown",
      "source": [
        "# 2 Datenbeschaffung und -vorverarbeitung\n"
      ],
      "metadata": {
        "id": "bkmXeYCJKaNJ"
      }
    },
    {
      "cell_type": "markdown",
      "source": [
        "## 2.1 ADP, Bye Weeks und Projections laden"
      ],
      "metadata": {
        "id": "af2FRpLJKguX"
      }
    },
    {
      "cell_type": "code",
      "source": [
        "adp_url = f'https://raw.githubusercontent.com/alexk2206/Data_Driven_Fantasy_Football/refs/heads/main/pre_season_data/adp_projections_{year}.csv'\n",
        "player_adp = (\n",
        "    pd.read_csv(adp_url)\n",
        "      .rename(columns={'player': 'Player', 'position': 'POS', 'adp': 'ADP', 'points': 'TTL'})\n",
        "      .fillna({'ADP': 999})\n",
        "      .loc[:, ['Player', 'POS', 'ADP', 'TTL']]\n",
        "      .sort_values('ADP')\n",
        "      .reset_index(drop=True)\n",
        ")\n",
        "\n",
        "\n",
        "bye_url = f'https://raw.githubusercontent.com/alexk2206/Data_Driven_Fantasy_Football/refs/heads/dev/bye_weeks/bye_weeks_{year}.csv'\n",
        "bye_weeks = pd.read_csv(bye_url)\n",
        "\n",
        "\n",
        "season_projection_url = f'https://raw.githubusercontent.com/alexk2206/Data_Driven_Fantasy_Football/refs/heads/main/pre_season_data/adp_projections_{year}.csv'\n",
        "season_projections = (\n",
        "    pd.read_csv(season_projection_url)\n",
        "      .rename(columns={'player': 'Player', 'position': 'POS', 'team': 'Team', 'points': 'TTL', 'adp': 'ADP'})\n",
        "      .loc[:, ['Player', 'POS', 'Team', 'TTL', 'ADP']]\n",
        "      .merge(bye_weeks[['Abbreviation', 'Bye']], left_on='Team', right_on='Abbreviation', how='left')\n",
        "      .drop(columns='Abbreviation')\n",
        "      .drop_duplicates(subset='Player', keep='first')\n",
        ")\n",
        "season_projections['avg_proj'] = season_projections['TTL'] / np.where(\n",
        "    season_projections['Bye'].isna(),\n",
        "    num_weeks,\n",
        "    num_weeks - 1\n",
        ")\n",
        "week_cols = [f'Week_{w}' for w in range(1, num_weeks + 1)]\n",
        "for week in week_cols:\n",
        "    season_projections[week] = np.where(\n",
        "        season_projections['Bye'] == week,\n",
        "        0,\n",
        "        season_projections['avg_proj']\n",
        "    )\n",
        "season_projections = season_projections.drop(columns='avg_proj')"
      ],
      "metadata": {
        "id": "bwLesuHeKeIH"
      },
      "execution_count": 134,
      "outputs": []
    },
    {
      "cell_type": "markdown",
      "source": [
        "## 2.2 Berechnung von TTL, Dropoff und VOR"
      ],
      "metadata": {
        "id": "LHcezuGNLPQ8"
      }
    },
    {
      "cell_type": "code",
      "source": [
        "dropoff_w = {'QB':1.0,'RB':1.0,'WR':1.0,'TE':0.9,'K':0.4,'DST':0.3}\n",
        "vor_w     = {'QB':0.8,'RB':1.0,'WR':1.0,'TE':0.8,'K':0.25,'DST':0.25}\n",
        "\n",
        "rep_ttl = (\n",
        "    season_projections\n",
        "      .groupby('POS')['TTL']\n",
        "      .apply(lambda s: s.nlargest(lineup_req[s.name]*num_teams)\n",
        "                   .iloc[-1]\n",
        "             if len(s) >= lineup_req[s.name]*num_teams else 0)\n",
        ")\n",
        "\n",
        "season_projections = (\n",
        "    season_projections\n",
        "      .sort_values(['POS','TTL'], ascending=[True,False])\n",
        "      .assign(\n",
        "          dropoff=lambda df: (\n",
        "              df.groupby('POS')['TTL']\n",
        "                .diff(-1)\n",
        "                .fillna(0)\n",
        "                .mul(df['POS'].map(dropoff_w))\n",
        "          ),\n",
        "          VOR=lambda df: (\n",
        "              (df['TTL'] - df['POS'].map(rep_ttl))\n",
        "                .clip(lower=0)\n",
        "                .mul(df['POS'].map(vor_w))\n",
        "          )\n",
        "      )\n",
        "      .fillna({'dropoff': 0, 'VOR': 0, 'ADP': 999})\n",
        "      .sort_values(['ADP', 'TTL'], ascending=[True, False])\n",
        "      .reset_index(drop=True)\n",
        ")\n"
      ],
      "metadata": {
        "id": "qqIOqTzVRWCd"
      },
      "execution_count": 135,
      "outputs": []
    },
    {
      "cell_type": "markdown",
      "source": [
        "# 3 Modellparameter und Variablenaufbau"
      ],
      "metadata": {
        "id": "9Q_UJJyALPTa"
      }
    },
    {
      "cell_type": "markdown",
      "source": [
        "## 3.1 Spielerlisten und Parameter-Mapping"
      ],
      "metadata": {
        "id": "u9oR4gCbLPWS"
      }
    },
    {
      "cell_type": "code",
      "source": [
        "# 1. INITIALIZATION\n",
        "players            = (season_projections[['Player', 'POS', 'ADP', 'TTL', 'dropoff', 'VOR']]\n",
        "                      .copy()\n",
        "                      .sort_values(['ADP', 'TTL'], ascending=[True, False])\n",
        "                      .reset_index(drop=True))\n",
        "players['Rank']    = players.index + 1\n",
        "\n",
        "players_list       = players['Player'].copy().tolist()\n",
        "positions          = {'QB', 'RB', 'WR', 'TE', 'K', 'DST', 'FLEX'}\n",
        "flex_eligible      = {'RB', 'WR', 'TE'}\n",
        "weeks              = list(range(1, 18))\n",
        "\n",
        "pos                = dict(zip(season_projections['Player'], season_projections['POS']))\n",
        "lineup_req         = {'QB': 1, 'RB': 2, 'WR': 2, 'TE': 1, 'K': 1, 'DST': 1, 'FLEX': 1}\n",
        "max_req            = {'QB': 2, 'RB': 999, 'WR': 999, 'TE': 2, 'K': 1, 'DST': 1}\n",
        "week_cols          = [col for col in season_projections.columns if col.startswith('Week_')]\n",
        "\n",
        "season_projections_dict = {\n",
        "\trow['Player']: {\n",
        "\t\t**{int(week.replace('Week_', '')): row[week] for week in week_cols},\n",
        "\t\t'dropoff': row['dropoff'],\n",
        "\t\t'VOR':     row['VOR']\n",
        "\t}\n",
        "\tfor _, row in season_projections.iterrows()\n",
        "}\n",
        "\n",
        "beta               = {t: 120.0 for t in weeks}\n",
        "alpha              = 0.3\n",
        "lambda_0           = 1\n",
        "lambda_1           = 3\n",
        "lambda_2           = 4\n",
        "lambda_3           = 0.5\n",
        "lambda_4           = 50\n",
        "df_sorted          = players.sort_values('Rank').reset_index(drop=True)\n",
        "topk_pct           = 0.0025\n",
        "\n",
        "# 2. DRAFT ORDER SETUP\n",
        "\n",
        "teams              = [f'Team {i+1}' for i in range(num_teams)]\n",
        "DM_team            = 'Team 1'\n",
        "\n",
        "draft_order        = []\n",
        "for rnd in range(num_rounds):\n",
        "\torder = teams if rnd % 2 == 0 else teams[::-1]\n",
        "\tdraft_order += order\n",
        "\n",
        "# 3. OPPONENT PICK FUNCTION\n",
        "\n",
        "def opponent_pick(roster, available, Rk, lineup_req, topk_pct=topk_pct):\n",
        "\tremaining_players = sorted(available, key=lambda p: Rk[p])\n",
        "\ttopk              = max(1, int(len(remaining_players) * topk_pct))\n",
        "\n",
        "\tdeficits = {\n",
        "\t\tj: lineup_req[j] - sum(1 for p in roster if pos[p] == j)\n",
        "\t\tfor j in lineup_req if j != 'FLEX'\n",
        "\t}\n",
        "\tneeded = [j for j, d in deficits.items() if d > 0]\n",
        "\n",
        "\tif needed:\n",
        "\t\tcandidates = [p for p in remaining_players if pos[p] in needed]\n",
        "\t\tpool       = candidates[:topk] if len(candidates) >= topk else candidates\n",
        "\t\tif pool:\n",
        "\t\t\treturn random.choice(pool)\n",
        "\n",
        "\treturn random.choice(remaining_players[:topk])\n",
        "\n",
        "# 4. DRAFT INITIALIZATION\n",
        "\n",
        "rosters     = {tm: [] for tm in teams}\n",
        "available   = set(players_list)\n",
        "draft_log   = []\n",
        "\n",
        "\n"
      ],
      "metadata": {
        "id": "4xnRT9gEI66H"
      },
      "execution_count": 124,
      "outputs": []
    },
    {
      "cell_type": "markdown",
      "source": [
        "## 3.2 Optimierungsvariablen und Zielfunktion konfigurieren"
      ],
      "metadata": {
        "id": "WDJpbBvQLPY1"
      }
    },
    {
      "cell_type": "code",
      "source": [
        "# 1. INITIALIZATION\n",
        "players            = (season_projections[['Player', 'POS', 'ADP', 'TTL', 'dropoff', 'VOR']]\n",
        "                      .copy()\n",
        "                      .sort_values(['ADP', 'TTL'], ascending=[True, False])\n",
        "                      .reset_index(drop=True))\n",
        "players['Rank']    = players.index + 1\n",
        "\n",
        "players_list       = players['Player'].copy().tolist()\n",
        "positions          = {'QB', 'RB', 'WR', 'TE', 'K', 'DST', 'FLEX'}\n",
        "flex_eligible      = {'RB', 'WR', 'TE'}\n",
        "weeks              = list(range(1, 18))\n",
        "\n",
        "pos                = dict(zip(season_projections['Player'], season_projections['POS']))\n",
        "lineup_req         = {'QB': 1, 'RB': 2, 'WR': 2, 'TE': 1, 'K': 1, 'DST': 1, 'FLEX': 1}\n",
        "max_req            = {'QB': 2, 'RB': 999, 'WR': 999, 'TE': 2, 'K': 1, 'DST': 1}\n",
        "week_cols          = [col for col in season_projections.columns if col.startswith('Week_')]\n",
        "\n",
        "season_projections_dict = {\n",
        "\trow['Player']: {\n",
        "\t\t**{int(week.replace('Week_', '')): row[week] for week in week_cols},\n",
        "\t\t'dropoff': row['dropoff'],\n",
        "\t\t'VOR':     row['VOR']\n",
        "\t}\n",
        "\tfor _, row in season_projections.iterrows()\n",
        "}\n",
        "\n",
        "beta               = {t: 120.0 for t in weeks}\n",
        "alpha              = 0.3\n",
        "lambda_0           = 1\n",
        "lambda_1           = 3\n",
        "lambda_2           = 4\n",
        "lambda_3           = 0.5\n",
        "lambda_4           = 40\n",
        "df_sorted          = players.sort_values('Rank').reset_index(drop=True)\n",
        "topk_pct           = 0.0025\n",
        "\n",
        "# 2. DRAFT ORDER SETUP\n",
        "\n",
        "teams              = [f'Team {i+1}' for i in range(num_teams)]\n",
        "DM_team            = 'Team 1'\n",
        "\n",
        "draft_order        = []\n",
        "for rnd in range(num_rounds):\n",
        "\torder = teams if rnd % 2 == 0 else teams[::-1]\n",
        "\tdraft_order += order\n",
        "\n",
        "# 3. OPPONENT PICK FUNCTION\n",
        "\n",
        "def opponent_pick(roster, available, Rk, lineup_req, topk_pct=topk_pct):\n",
        "\tremaining_players = sorted(available, key=lambda p: Rk[p])\n",
        "\ttopk              = max(1, int(len(remaining_players) * topk_pct))\n",
        "\n",
        "\tdeficits = {\n",
        "\t\tj: lineup_req[j] - sum(1 for p in roster if pos[p] == j)\n",
        "\t\tfor j in lineup_req if j != 'FLEX'\n",
        "\t}\n",
        "\tneeded = [j for j, d in deficits.items() if d > 0]\n",
        "\n",
        "\tif needed:\n",
        "\t\tcandidates = [p for p in remaining_players if pos[p] in needed]\n",
        "\t\tpool       = candidates[:topk] if len(candidates) >= topk else candidates\n",
        "\t\tif pool:\n",
        "\t\t\treturn random.choice(pool)\n",
        "\n",
        "\treturn random.choice(remaining_players[:topk])\n",
        "\n",
        "# 4. DRAFT INITIALIZATION\n",
        "\n",
        "rosters     = {tm: [] for tm in teams}\n",
        "available   = set(players_list)\n",
        "draft_log   = []\n",
        "\n",
        "\n",
        "# 5. MAIN DRAFT LOOP\n",
        "\n",
        "for pick_idx, team in enumerate(draft_order, start=1):\n",
        "\n",
        "    for p in available:\n",
        "        ranks = df_sorted.loc[df_sorted.Player == p, 'Rank']\n",
        "        if len(ranks) != 1:\n",
        "            print(f'Problem bei Spieler {p}: Anzahl gefundener Ränge = {len(ranks)}')\n",
        "\n",
        "    remaining_players = sorted(available, key=lambda p: df_sorted.loc[df_sorted.Player == p, 'Rank'].item())\n",
        "    Rk                = {p: i+1 for i, p in enumerate(remaining_players)}\n",
        "    player_vars       = set(remaining_players) | set(rosters[team])\n",
        "    picks_remaining   = num_rounds - len(rosters[team])\n",
        "\n",
        "    if team == DM_team:\n",
        "        m = Model(sense=maximize, solver_name='CBC')\n",
        "\n",
        "        y = {i: m.add_var(var_type=BINARY, name=f'y_{i}') for i in remaining_players}\n",
        "        x = {(i, t): m.add_var(var_type=CONTINUOUS, name=f'x_{i}_{t}') for i in remaining_players for t in weeks}\n",
        "        z = {t: m.add_var(var_type=BINARY, name=f'z_{t}') for t in weeks}\n",
        "\n",
        "        m.objective = (\n",
        "            lambda_0 * xsum(season_projections_dict[i][t] * x[i, t] for i in remaining_players for t in weeks)\n",
        "            + lambda_1 * xsum(z[t] for t in weeks[:15])\n",
        "            + lambda_2 * xsum(z[t] for t in weeks[15:])\n",
        "            + lambda_3 * xsum(season_projections_dict[i]['dropoff'] * y[i] for i in remaining_players)\n",
        "            - lambda_4 * xsum(season_projections_dict[i]['VOR'] * y[i] for i in remaining_players)\n",
        "        )\n",
        "\n",
        "        # for p in rosters[team]:\n",
        "        #     m += y[p] == 1\n",
        "        m += xsum(y[i] for i in remaining_players) == picks_remaining\n",
        "\n",
        "        for pos_name, req in lineup_req.items():\n",
        "            if pos_name != 'FLEX':\n",
        "                already_satisfied = sum(1 for p in rosters[team] if pos[p] == pos_name)\n",
        "                need = max(0, req - already_satisfied)\n",
        "                m += xsum(y[i] for i in remaining_players if pos[i] == pos_name) >= need\n",
        "\n",
        "        for t in weeks:\n",
        "            for j in positions - {'FLEX'}:\n",
        "                m += xsum(y[i] for i in remaining_players if pos[i] == j) <= max_req[j]\n",
        "            for i in remaining_players:\n",
        "                m += (\n",
        "                    (x[i, t] if pos[i] in positions - {'FLEX'} else 0) +\n",
        "                    (x[i, t] if pos[i] in flex_eligible else 0)\n",
        "                    <= 1\n",
        "                )\n",
        "        for i in remaining_players:\n",
        "            for t in weeks:\n",
        "                m += x[i, t] <= y[i]\n",
        "        for t in weeks:\n",
        "            m += z[t] <= xsum(season_projections_dict[i][t] * x[i, t] for i in remaining_players) / beta[t]\n",
        "\n",
        "        n_k = pick_idx\n",
        "        for future_pick in range(pick_idx + 1, pick_idx + picks_remaining * len(teams), len(teams)):\n",
        "            top_cut = int(alpha * (future_pick - n_k))\n",
        "            if top_cut > 0:\n",
        "                top_players = [i for i, r in Rk.items() if r <= top_cut]\n",
        "                m += xsum(y[i] for i in top_players) <= ((future_pick - n_k) // len(teams))\n",
        "\n",
        "        m.optimize()\n",
        "        if m.num_solutions == 0:\n",
        "            raise RuntimeError(f'No feasible solution at pick {pick_idx}. Check constraints and player pool.')\n",
        "\n",
        "        print(f\"\\n--- DM Pick {pick_idx} ---\")\n",
        "        for i in remaining_players:\n",
        "            if y[i].x is not None and y[i].x >= 0.9:\n",
        "                ttl = sum(season_projections_dict[i][t] for t in weeks)\n",
        "                vor = season_projections_dict[i]['VOR']\n",
        "                print(f\"{i:25} ({pos[i]})  TTL={ttl:6.1f}   VOR={vor:6.1f}\")\n",
        "\n",
        "        chosen = [i for i in remaining_players if y[i].x is not None and y[i].x >= 0.99 and i not in rosters[team]]\n",
        "        if not chosen:\n",
        "            raise RuntimeError(f'No feasible pick at {pick_idx}')\n",
        "        pick = min(chosen, key=lambda i: Rk[i])\n",
        "\n",
        "    else:\n",
        "        current_round   = (pick_idx - 1) // len(teams) + 1\n",
        "        dynamic_topk_pct = min(current_round * 2 * topk_pct, 1.0)\n",
        "        pick = opponent_pick(\n",
        "            roster    = rosters[team],\n",
        "            available = available,\n",
        "            Rk        = Rk,\n",
        "            lineup_req= lineup_req,\n",
        "            topk_pct  = dynamic_topk_pct\n",
        "        )\n",
        "\n",
        "    rosters[team].append(pick)\n",
        "    available.remove(pick)\n",
        "    draft_log.append({\n",
        "        'Pick':    pick_idx,\n",
        "        'Team':    team,\n",
        "        'Player':  pick,\n",
        "        'Round':   (pick_idx - 1) // len(teams) + 1,\n",
        "        'POS':     pos[pick]\n",
        "    })\n",
        "\n",
        "# 6. CREATE DRAFT DATAFRAME\n",
        "\n",
        "df_draft = pd.DataFrame(draft_log)\n",
        "print(m.status)\n",
        "#print(m.num_constrs, m.num_vars)\n",
        "print(m)\n"
      ],
      "metadata": {
        "colab": {
          "base_uri": "https://localhost:8080/"
        },
        "id": "Z-XUxN-O_WxC",
        "outputId": "02b2531e-64a7-435e-9c29-caa1d7a57e15"
      },
      "execution_count": 137,
      "outputs": [
        {
          "output_type": "stream",
          "name": "stdout",
          "text": [
            "\n",
            "--- DM Pick 1 ---\n",
            "Christian McCaffrey       (RB)  TTL= 353.0   VOR= 162.0\n",
            "Breece Hall               (RB)  TTL= 309.0   VOR= 118.0\n",
            "Justin Jefferson          (WR)  TTL= 308.0   VOR=  79.0\n",
            "Puka Nacua                (WR)  TTL= 287.0   VOR=  58.0\n",
            "Kyren Williams            (RB)  TTL= 254.0   VOR=  63.0\n",
            "Josh Allen                (QB)  TTL= 371.0   VOR=  63.2\n",
            "Josh Jacobs               (RB)  TTL= 243.0   VOR=  52.0\n",
            "Jalen Hurts               (QB)  TTL= 365.0   VOR=  58.4\n",
            "Rachaad White             (RB)  TTL= 242.0   VOR=  51.0\n",
            "Sam LaPorta               (TE)  TTL= 227.0   VOR=  56.8\n",
            "Joe Mixon                 (RB)  TTL= 229.0   VOR=  38.0\n",
            "Alvin Kamara              (RB)  TTL= 241.0   VOR=  50.0\n",
            "Trey McBride              (TE)  TTL= 208.0   VOR=  41.6\n",
            "Brandon Aubrey            (K)  TTL= 163.0   VOR=   4.8\n",
            "Jets                      (DST)  TTL= 100.0   VOR=   2.1\n",
            "\n",
            "--- DM Pick 24 ---\n",
            "Josh Jacobs               (RB)  TTL= 243.0   VOR=  52.0\n",
            "Jalen Hurts               (QB)  TTL= 365.0   VOR=  58.4\n",
            "Rachaad White             (RB)  TTL= 242.0   VOR=  51.0\n",
            "Joe Mixon                 (RB)  TTL= 229.0   VOR=  38.0\n",
            "Kenneth Walker III        (RB)  TTL= 224.0   VOR=  33.0\n",
            "Alvin Kamara              (RB)  TTL= 241.0   VOR=  50.0\n",
            "DeVonta Smith             (WR)  TTL= 242.0   VOR=  13.0\n",
            "Trey McBride              (TE)  TTL= 208.0   VOR=  41.6\n",
            "Anthony Richardson        (QB)  TTL= 316.0   VOR=  19.2\n",
            "Aaron Jones               (RB)  TTL= 211.0   VOR=  20.0\n",
            "Zay Flowers               (WR)  TTL= 227.0   VOR=   0.0\n",
            "Evan Engram               (TE)  TTL= 198.0   VOR=  33.6\n",
            "Brandon Aubrey            (K)  TTL= 163.0   VOR=   4.8\n",
            "Jets                      (DST)  TTL= 100.0   VOR=   2.1\n",
            "\n",
            "--- DM Pick 25 ---\n",
            "Jalen Hurts               (QB)  TTL= 365.0   VOR=  58.4\n",
            "Rachaad White             (RB)  TTL= 242.0   VOR=  51.0\n",
            "James Cook                (RB)  TTL= 235.0   VOR=  44.0\n",
            "Joe Mixon                 (RB)  TTL= 229.0   VOR=  38.0\n",
            "Kenneth Walker III        (RB)  TTL= 224.0   VOR=  33.0\n",
            "Alvin Kamara              (RB)  TTL= 241.0   VOR=  50.0\n",
            "Stefon Diggs              (WR)  TTL= 240.0   VOR=  11.0\n",
            "Trey McBride              (TE)  TTL= 208.0   VOR=  41.6\n",
            "Aaron Jones               (RB)  TTL= 211.0   VOR=  20.0\n",
            "Nathaniel Dell            (WR)  TTL= 216.0   VOR=   0.0\n",
            "Evan Engram               (TE)  TTL= 198.0   VOR=  33.6\n",
            "Brandon Aubrey            (K)  TTL= 163.0   VOR=   4.8\n",
            "Jets                      (DST)  TTL= 100.0   VOR=   2.1\n",
            "\n",
            "--- DM Pick 48 ---\n",
            "Kenneth Walker III        (RB)  TTL= 224.0   VOR=  33.0\n",
            "Aaron Jones               (RB)  TTL= 211.0   VOR=  20.0\n",
            "Dalton Kincaid            (TE)  TTL= 198.0   VOR=  33.6\n",
            "Rhamondre Stevenson       (RB)  TTL= 205.0   VOR=  14.0\n",
            "Dak Prescott              (QB)  TTL= 312.0   VOR=  16.0\n",
            "Najee Harris              (RB)  TTL= 196.0   VOR=   5.0\n",
            "Kyler Murray              (QB)  TTL= 308.0   VOR=  12.8\n",
            "Evan Engram               (TE)  TTL= 198.0   VOR=  33.6\n",
            "Keon Coleman              (WR)  TTL= 169.0   VOR=   0.0\n",
            "Rome Odunze               (WR)  TTL= 168.0   VOR=   0.0\n",
            "Brandon Aubrey            (K)  TTL= 163.0   VOR=   4.8\n",
            "Jets                      (DST)  TTL= 100.0   VOR=   2.1\n",
            "\n",
            "--- DM Pick 49 ---\n",
            "DeVonta Smith             (WR)  TTL= 242.0   VOR=  13.0\n",
            "Aaron Jones               (RB)  TTL= 211.0   VOR=  20.0\n",
            "Dalton Kincaid            (TE)  TTL= 198.0   VOR=  33.6\n",
            "Rhamondre Stevenson       (RB)  TTL= 205.0   VOR=  14.0\n",
            "Dak Prescott              (QB)  TTL= 312.0   VOR=  16.0\n",
            "Kyler Murray              (QB)  TTL= 308.0   VOR=  12.8\n",
            "Evan Engram               (TE)  TTL= 198.0   VOR=  33.6\n",
            "Devin Singletary          (RB)  TTL= 186.0   VOR=   0.0\n",
            "Rome Odunze               (WR)  TTL= 168.0   VOR=   0.0\n",
            "Brandon Aubrey            (K)  TTL= 163.0   VOR=   4.8\n",
            "Jets                      (DST)  TTL= 100.0   VOR=   2.1\n",
            "\n",
            "--- DM Pick 72 ---\n",
            "Dak Prescott              (QB)  TTL= 312.0   VOR=  16.0\n",
            "Kyle Pitts                (TE)  TTL= 188.0   VOR=  25.6\n",
            "Jordan Love               (QB)  TTL= 308.0   VOR=  12.8\n",
            "David Njoku               (TE)  TTL= 180.0   VOR=  19.2\n",
            "Rome Odunze               (WR)  TTL= 168.0   VOR=   0.0\n",
            "Harrison Butker           (K)  TTL= 156.0   VOR=   3.0\n",
            "Jets                      (DST)  TTL= 100.0   VOR=   2.1\n",
            "Tyler Lockett             (WR)  TTL= 170.0   VOR=   0.0\n",
            "Adam Thielen              (WR)  TTL= 172.0   VOR=   0.0\n",
            "Brandin Cooks             (WR)  TTL= 166.0   VOR=   0.0\n",
            "\n",
            "--- DM Pick 73 ---\n",
            "Najee Harris              (RB)  TTL= 196.0   VOR=   5.0\n",
            "Kyle Pitts                (TE)  TTL= 188.0   VOR=  25.6\n",
            "Jordan Love               (QB)  TTL= 308.0   VOR=  12.8\n",
            "David Njoku               (TE)  TTL= 180.0   VOR=  19.2\n",
            "Keon Coleman              (WR)  TTL= 169.0   VOR=   0.0\n",
            "Chase Brown               (RB)  TTL= 159.0   VOR=   0.0\n",
            "Harrison Butker           (K)  TTL= 156.0   VOR=   3.0\n",
            "Jets                      (DST)  TTL= 100.0   VOR=   2.1\n",
            "Emari Demercado           (RB)  TTL=  56.9   VOR=   0.0\n",
            "\n",
            "--- DM Pick 96 ---\n",
            "Kyle Pitts                (TE)  TTL= 188.0   VOR=  25.6\n",
            "Jordan Love               (QB)  TTL= 308.0   VOR=  12.8\n",
            "Chase Brown               (RB)  TTL= 159.0   VOR=   0.0\n",
            "Dallas Goedert            (TE)  TTL= 163.0   VOR=   5.6\n",
            "Jordan Addison            (WR)  TTL= 194.0   VOR=   0.0\n",
            "Evan McPherson            (K)  TTL= 148.0   VOR=   1.0\n",
            "Colts                     (DST)  TTL=  95.8   VOR=   1.1\n",
            "Emari Demercado           (RB)  TTL=  56.9   VOR=   0.0\n",
            "\n",
            "--- DM Pick 97 ---\n",
            "Jordan Love               (QB)  TTL= 308.0   VOR=  12.8\n",
            "Chase Brown               (RB)  TTL= 159.0   VOR=   0.0\n",
            "Dallas Goedert            (TE)  TTL= 163.0   VOR=   5.6\n",
            "Evan McPherson            (K)  TTL= 148.0   VOR=   1.0\n",
            "Colts                     (DST)  TTL=  95.8   VOR=   1.1\n",
            "Emari Demercado           (RB)  TTL=  56.9   VOR=   0.0\n",
            "Darius Slayton            (WR)  TTL= 127.0   VOR=   0.0\n",
            "\n",
            "--- DM Pick 120 ---\n",
            "Chase Brown               (RB)  TTL= 159.0   VOR=   0.0\n",
            "Dallas Goedert            (TE)  TTL= 163.0   VOR=   5.6\n",
            "Brandin Cooks             (WR)  TTL= 166.0   VOR=   0.0\n",
            "Evan McPherson            (K)  TTL= 148.0   VOR=   1.0\n",
            "Colts                     (DST)  TTL=  95.8   VOR=   1.1\n",
            "Emari Demercado           (RB)  TTL=  56.9   VOR=   0.0\n",
            "\n",
            "--- DM Pick 121 ---\n",
            "Dallas Goedert            (TE)  TTL= 163.0   VOR=   5.6\n",
            "Evan McPherson            (K)  TTL= 148.0   VOR=   1.0\n",
            "Colts                     (DST)  TTL=  95.8   VOR=   1.1\n",
            "Emari Demercado           (RB)  TTL=  56.9   VOR=   0.0\n",
            "Darius Slayton            (WR)  TTL= 127.0   VOR=   0.0\n",
            "\n",
            "--- DM Pick 144 ---\n",
            "Brandin Cooks             (WR)  TTL= 166.0   VOR=   0.0\n",
            "Evan McPherson            (K)  TTL= 148.0   VOR=   1.0\n",
            "Colts                     (DST)  TTL=  95.8   VOR=   1.1\n",
            "Emari Demercado           (RB)  TTL=  56.9   VOR=   0.0\n",
            "\n",
            "--- DM Pick 145 ---\n",
            "Adam Thielen              (WR)  TTL= 172.0   VOR=   0.0\n",
            "Evan McPherson            (K)  TTL= 148.0   VOR=   1.0\n",
            "Colts                     (DST)  TTL=  95.8   VOR=   1.1\n",
            "\n",
            "--- DM Pick 168 ---\n",
            "Cameron Dicker            (K)  TTL= 147.0   VOR=   0.8\n",
            "Colts                     (DST)  TTL=  95.8   VOR=   1.1\n",
            "\n",
            "--- DM Pick 169 ---\n",
            "Colts                     (DST)  TTL=  95.8   VOR=   1.1\n",
            "OptimizationStatus.OPTIMAL\n",
            "<mip.model.Model object at 0x79eb357f56d0>\n"
          ]
        }
      ]
    },
    {
      "cell_type": "markdown",
      "source": [
        "# 3.3 Ausspielen des Drafts"
      ],
      "metadata": {
        "id": "3XnOTpLEBBnH"
      }
    },
    {
      "cell_type": "markdown",
      "source": [
        "# 4 Entwurfsphase (Draft-Optimierung)"
      ],
      "metadata": {
        "id": "B3MRQU2oLPcp"
      }
    },
    {
      "cell_type": "markdown",
      "source": [
        "## 4.1 Draft-Reihenfolge generieren"
      ],
      "metadata": {
        "id": "6uy2P7XaLPe2"
      }
    },
    {
      "cell_type": "markdown",
      "source": [
        "## 4.2 Optimierungsmodell für den MIP-Draft"
      ],
      "metadata": {
        "id": "xCUGmqSULPg7"
      }
    },
    {
      "cell_type": "markdown",
      "source": [
        "## 4.3 Gegnerische Picks simulieren"
      ],
      "metadata": {
        "id": "S5oKiGl8Lr6o"
      }
    },
    {
      "cell_type": "markdown",
      "source": [
        "# 5 Ergebnisaufbereitung"
      ],
      "metadata": {
        "id": "3r7yM9HqLr9I"
      }
    },
    {
      "cell_type": "markdown",
      "source": [
        "## 5.1 Draft-Log exportieren und zusammenführen"
      ],
      "metadata": {
        "id": "_mtA-wdjLr_Q"
      }
    },
    {
      "cell_type": "markdown",
      "source": [
        "## 5.2 Ergebnis-Statustext ausgeben"
      ],
      "metadata": {
        "id": "c066LdWHLsBU"
      }
    },
    {
      "cell_type": "markdown",
      "source": [
        "# 6 Evaluation"
      ],
      "metadata": {
        "id": "ZjDnhCy5LsEr"
      }
    }
  ]
}