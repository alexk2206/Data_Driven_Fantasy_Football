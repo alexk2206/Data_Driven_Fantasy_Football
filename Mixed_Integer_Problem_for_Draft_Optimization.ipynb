{
  "nbformat": 4,
  "nbformat_minor": 0,
  "metadata": {
    "colab": {
      "provenance": [],
      "authorship_tag": "ABX9TyOLa1Y4S1uHefkW9gZQoVmT",
      "include_colab_link": true
    },
    "kernelspec": {
      "name": "python3",
      "display_name": "Python 3"
    },
    "language_info": {
      "name": "python"
    }
  },
  "cells": [
    {
      "cell_type": "markdown",
      "metadata": {
        "id": "view-in-github",
        "colab_type": "text"
      },
      "source": [
        "<a href=\"https://colab.research.google.com/github/alexk2206/Data_Driven_Fantasy_Football/blob/main/Mixed_Integer_Problem_for_Draft_Optimization.ipynb\" target=\"_parent\"><img src=\"https://colab.research.google.com/assets/colab-badge.svg\" alt=\"Open In Colab\"/></a>"
      ]
    },
    {
      "cell_type": "markdown",
      "source": [
        "# 1  Initialisierung und Konfiguration"
      ],
      "metadata": {
        "id": "zHvxkZEnKHSO"
      }
    },
    {
      "cell_type": "markdown",
      "source": [
        "## 1.1 Bibliotheken installieren und laden\n"
      ],
      "metadata": {
        "id": "bYSnju5zJFn2"
      }
    },
    {
      "cell_type": "code",
      "execution_count": null,
      "metadata": {
        "id": "OOi4gsAzGkxy"
      },
      "outputs": [],
      "source": [
        "import pandas as pd\n",
        "import numpy as np\n",
        "import re\n",
        "import random\n",
        "!pip install mip\n",
        "from mip import Model, BINARY, CONTINUOUS, xsum, maximize\n",
        "!pip install rapidfuzz\n",
        "from rapidfuzz import process"
      ]
    },
    {
      "cell_type": "markdown",
      "source": [
        "## 1.2 Liga-Parameter und Rahmenbedingungen definieren"
      ],
      "metadata": {
        "id": "O5zfn8FeKB7Y"
      }
    },
    {
      "cell_type": "code",
      "source": [
        "year = 2024\n",
        "num_teams = 12\n",
        "num_rounds = 15\n",
        "num_weeks = 17\n",
        "allowed_positions = {'QB', 'RB', 'WR', 'TE', 'K', 'DST'}\n",
        "lineup_req = {'QB': 1, 'RB': 2, 'WR': 2, 'TE': 1, 'FLEX': 1, 'K': 1, 'DST': 1}"
      ],
      "metadata": {
        "id": "yqiYtqZwKYRL"
      },
      "execution_count": null,
      "outputs": []
    },
    {
      "cell_type": "markdown",
      "source": [
        "# 2 Datenbeschaffung und -vorverarbeitung\n"
      ],
      "metadata": {
        "id": "bkmXeYCJKaNJ"
      }
    },
    {
      "cell_type": "markdown",
      "source": [
        "## 2.1 ADP, Bye Weeks, Projections und reale Daten laden"
      ],
      "metadata": {
        "id": "af2FRpLJKguX"
      }
    },
    {
      "cell_type": "code",
      "source": [
        "adp_url = f'https://raw.githubusercontent.com/alexk2206/Data_Driven_Fantasy_Football/refs/heads/main/pre_season_data/adp_projections_{year}.csv'\n",
        "player_adp = (\n",
        "    pd.read_csv(adp_url)\n",
        "      .rename(columns={'player': 'Player', 'position': 'POS', 'adp': 'ADP', 'points': 'TTL'})\n",
        "      .fillna({'ADP': 999})\n",
        "      .loc[:, ['Player', 'POS', 'ADP', 'TTL']]\n",
        "      .sort_values('ADP')\n",
        "      .reset_index(drop=True)\n",
        ")\n",
        "\n",
        "\n",
        "bye_url = f'https://raw.githubusercontent.com/alexk2206/Data_Driven_Fantasy_Football/refs/heads/main/bye_weeks/bye_weeks_{year}.csv'\n",
        "bye_weeks = pd.read_csv(bye_url)\n",
        "\n",
        "\n",
        "season_projection_url = f'https://raw.githubusercontent.com/alexk2206/Data_Driven_Fantasy_Football/refs/heads/main/pre_season_data/adp_projections_{year}.csv'\n",
        "season_projections = (\n",
        "    pd.read_csv(season_projection_url)\n",
        "      .rename(columns={'player': 'Player', 'position': 'POS', 'team': 'Team', 'points': 'TTL', 'adp': 'ADP'})\n",
        "      .loc[:, ['Player', 'POS', 'Team', 'TTL', 'ADP']]\n",
        "      .merge(bye_weeks[['Abbreviation', 'Bye']], left_on='Team', right_on='Abbreviation', how='left')\n",
        "      .drop(columns='Abbreviation')\n",
        "      .drop_duplicates(subset='Player', keep='first')\n",
        ")\n",
        "season_projections['avg_proj'] = season_projections['TTL'] / np.where(\n",
        "    season_projections['Bye'].isna(),\n",
        "    num_weeks,\n",
        "    num_weeks - 1\n",
        ")\n",
        "week_cols = [f'Week_{w}' for w in range(1, num_weeks + 1)]\n",
        "for week in week_cols:\n",
        "    season_projections[week] = np.where(\n",
        "        season_projections['Bye'] == week,\n",
        "        0,\n",
        "        season_projections['avg_proj']\n",
        "    )\n",
        "season_projections = season_projections.drop(columns='avg_proj')\n",
        "\n",
        "real_projections_url = f'https://raw.githubusercontent.com/alexk2206/Data_Driven_Fantasy_Football/refs/heads/main/real_projections/real_projections_{year}.csv'\n",
        "real_projections = (\n",
        "    pd.read_csv(real_projections_url)\n",
        "      .rename(columns={'player': 'Player', 'position': 'POS', 'points': 'Projection', 'week': 'Week'})\n",
        "      .loc[:, ['Player', 'POS', 'Projection', 'Week']]\n",
        "      .pivot_table(\n",
        "         index=['Player', 'POS'],\n",
        "         columns='Week',\n",
        "         values='Projection',\n",
        "         aggfunc='first'\n",
        "      )\n",
        "      .rename_axis(None, axis=1)\n",
        "      .add_prefix('Week_')\n",
        "      .reset_index()\n",
        "      .fillna(0)\n",
        ")\n",
        "\n",
        "real_data_RZ_url = f'https://raw.githubusercontent.com/alexk2206/Data_Driven_Fantasy_Football/refs/heads/main/Weekly_Data/weekly_data_{year}.csv'\n",
        "real_data_RZ = (\n",
        "    pd.read_csv(real_data_RZ_url)\n",
        "    .rename(columns={'position': 'POS', 'player_display_name': 'Player'})\n",
        "    .replace({'FB': 'RB'})\n",
        "    .drop(columns = ['season'], errors='ignore')\n",
        "    .loc[lambda real_data_RZ: real_data_RZ['POS'].isin(allowed_positions)]\n",
        ")\n",
        "\n",
        "\n",
        "real_data_FP_url = f'https://raw.githubusercontent.com/alexk2206/Data_Driven_Fantasy_Football/refs/heads/main/Weekly_Data/FantasyPros_Fantasy_Football_Points_PPR_{year}.csv'\n",
        "real_data_FP = (\n",
        "    pd.read_csv(real_data_FP_url)\n",
        "      .rename(columns={'Pos': 'POS', 'player_display_name': 'Player'})\n",
        "      .replace({'-': 0, 'BYE': 0})\n",
        "      .drop(columns = ['#', 'Team'], errors='ignore')\n",
        "      .query(\"POS in ['K', 'DST']\")\n",
        ")\n",
        "\n",
        "real_data_FP = real_data_FP.melt(\n",
        "    id_vars=['Player', 'POS'],\n",
        "    value_vars=[str(w) for w in range(1, 19)],\n",
        "    var_name='week',\n",
        "    value_name='fantasy_points_ppr'\n",
        ")\n",
        "real_data_FP = real_data_FP[~real_data_FP['fantasy_points_ppr'].isin(['BYE', '-', None])].copy()\n",
        "real_data_FP['fantasy_points_ppr'] = pd.to_numeric(real_data_FP['fantasy_points_ppr'])\n",
        "\n",
        "real_data = pd.concat([real_data_FP, real_data_RZ], ignore_index=True)\n",
        "real_data['week'] = real_data['week'].astype(int)\n",
        "\n",
        "print(\"Positions in Fantasy Pros Data:\")\n",
        "print(real_data_FP['POS'].value_counts())\n",
        "print(\"\\nPositions in Row Zero Data:\")\n",
        "print(real_data_RZ['POS'].value_counts())\n",
        "print(\"\\nPositions in Concatonated Data\")\n",
        "print(real_data['POS'].value_counts())"
      ],
      "metadata": {
        "id": "bwLesuHeKeIH"
      },
      "execution_count": null,
      "outputs": []
    },
    {
      "cell_type": "markdown",
      "source": [
        "## 2.2 Spieler Namen verschiedener Quellen angleichen"
      ],
      "metadata": {
        "id": "8buA3S7TRFyw"
      }
    },
    {
      "cell_type": "code",
      "source": [
        "adp_names = player_adp['Player'].unique().tolist()\n",
        "adp_pos_dict = dict(zip(player_adp['Player'], player_adp['POS']))\n",
        "\n",
        "def match_name_with_pos(name, pos, reference_list, reference_pos_dict, cutoff=85.5):\n",
        "    filtered_candidates = [p for p in reference_list if reference_pos_dict.get(p) == pos]\n",
        "    result = process.extractOne(name, filtered_candidates, score_cutoff=cutoff)\n",
        "    return result[0] if result else None\n",
        "\n",
        "real_data['Player'] = real_data.apply(\n",
        "    lambda row: match_name_with_pos(row['Player'], row['POS'], adp_names, adp_pos_dict),\n",
        "    axis=1\n",
        ")\n",
        "real_data = real_data.drop_duplicates(subset=['Player', 'POS', 'week'], keep='first')\n",
        "\n",
        "real_data = real_data[real_data['Player'].notnull()].copy()"
      ],
      "metadata": {
        "id": "n0AxtuLnRK5V"
      },
      "execution_count": null,
      "outputs": []
    },
    {
      "cell_type": "markdown",
      "source": [
        "## 2.3 Berechnung von TTL, Dropoff und VOR"
      ],
      "metadata": {
        "id": "LHcezuGNLPQ8"
      }
    },
    {
      "cell_type": "code",
      "source": [
        "dropoff_w = {'QB':1.0,'RB':1.0,'WR':1.0,'TE':0.9,'K':0.4,'DST':0.3}\n",
        "vor_w     = {'QB':0.8,'RB':1.0,'WR':1.0,'TE':0.8,'K':0.25,'DST':0.25}\n",
        "\n",
        "rep_ttl = (\n",
        "    season_projections\n",
        "      .groupby('POS')['TTL']\n",
        "      .apply(lambda s: s.nlargest(lineup_req[s.name]*num_teams)\n",
        "                   .iloc[-1]\n",
        "             if len(s) >= lineup_req[s.name]*num_teams else 0)\n",
        ")\n",
        "\n",
        "season_projections = (\n",
        "    season_projections\n",
        "      .sort_values(['POS','TTL'], ascending=[True,False])\n",
        "      .assign(\n",
        "          dropoff=lambda df: (\n",
        "              df.groupby('POS')['TTL']\n",
        "                .diff(-1)\n",
        "                .fillna(0)\n",
        "                .mul(df['POS'].map(dropoff_w))\n",
        "          ),\n",
        "          VOR=lambda df: (\n",
        "              (df['TTL'] - df['POS'].map(rep_ttl))\n",
        "                .clip(lower=0)\n",
        "                .mul(df['POS'].map(vor_w))\n",
        "          )\n",
        "      )\n",
        "      .fillna({'dropoff': 0, 'VOR': 0, 'ADP': 999})\n",
        "      .sort_values(['ADP', 'TTL'], ascending=[True, False])\n",
        "      .reset_index(drop=True)\n",
        ")\n"
      ],
      "metadata": {
        "id": "qqIOqTzVRWCd"
      },
      "execution_count": null,
      "outputs": []
    },
    {
      "cell_type": "markdown",
      "source": [
        "# 3 Modellparameter, Variablenaufbau und Optimierungsproblem"
      ],
      "metadata": {
        "id": "9Q_UJJyALPTa"
      }
    },
    {
      "cell_type": "code",
      "source": [
        "# 1 Initalisierung\n",
        "players            = (season_projections[['Player', 'POS', 'ADP', 'TTL', 'dropoff', 'VOR']]\n",
        "                      .copy()\n",
        "                      .sort_values(['ADP', 'TTL'], ascending=[True, False])\n",
        "                      .reset_index(drop=True))\n",
        "players['Rank']    = players.index + 1\n",
        "\n",
        "players_list       = players['Player'].dropna().copy().tolist()\n",
        "positions          = {'QB', 'RB', 'WR', 'TE', 'K', 'DST', 'FLEX'}\n",
        "flex_eligible      = {'RB', 'WR', 'TE'}\n",
        "weeks              = list(range(1, 18))\n",
        "\n",
        "pos                = dict(zip(season_projections['Player'], season_projections['POS']))\n",
        "lineup_req         = {'QB': 1, 'RB': 2, 'WR': 2, 'TE': 1, 'K': 1, 'DST': 1, 'FLEX': 1}\n",
        "max_req            = {'QB': 2, 'RB': 999, 'WR': 999, 'TE': 2, 'K': 1, 'DST': 1}\n",
        "week_cols          = [col for col in season_projections.columns if col.startswith('Week_')]\n",
        "\n",
        "season_projections_dict = {\n",
        "\trow['Player']: {\n",
        "\t\t**{int(week.replace('Week_', '')): row[week] for week in week_cols},\n",
        "\t\t'dropoff': row['dropoff'],\n",
        "\t\t'VOR':     row['VOR']\n",
        "\t}\n",
        "\tfor _, row in season_projections.iterrows()\n",
        "}\n",
        "\n",
        "beta               = {t: 120.0 for t in weeks}\n",
        "alpha              = 0.3\n",
        "lambda_0           = 1\n",
        "lambda_1           = 1\n",
        "lambda_2           = 2\n",
        "lambda_3           = 5\n",
        "lambda_4           = 0.25\n",
        "df_sorted          = players.sort_values('Rank').reset_index(drop=True)\n",
        "topk_pct           = 0.0025\n",
        "\n",
        "# 2 Festlegen der Draft Reihenfolge\n",
        "\n",
        "teams              = [f'Team {i+1}' for i in range(num_teams)]\n",
        "DM_team            = random.choice(teams)\n",
        "draft_order        = []\n",
        "for rnd in range(num_rounds):\n",
        "\torder = teams if rnd % 2 == 0 else teams[::-1]\n",
        "\tdraft_order += order\n",
        "\n",
        "# 3 Heuristische Gegner Draft Funktion\n",
        "\n",
        "def opponent_pick(roster, available, Rk, lineup_req, topk_pct=topk_pct):\n",
        "\tremaining_players = sorted(available, key=lambda p: Rk[p])\n",
        "\ttopk              = max(1, int(len(remaining_players) * topk_pct))\n",
        "\n",
        "\tdeficits = {\n",
        "\t\tj: lineup_req[j] - sum(1 for p in roster if pos[p] == j)\n",
        "\t\tfor j in lineup_req if j != 'FLEX'\n",
        "\t}\n",
        "\tneeded = [j for j, d in deficits.items() if d > 0]\n",
        "\n",
        "\tif needed:\n",
        "\t\tcandidates = [p for p in remaining_players if pos[p] in needed]\n",
        "\t\tpool       = candidates[:topk] if len(candidates) >= topk else candidates\n",
        "\t\tif pool:\n",
        "\t\t\treturn random.choice(pool)\n",
        "\n",
        "\treturn random.choice(remaining_players[:topk])\n",
        "\n",
        "# 4 Draft Initialisierung\n",
        "\n",
        "rosters             = {tm: [] for tm in teams}\n",
        "available           = set(players_list)\n",
        "draft_log           = []\n",
        "\n",
        "\n",
        "# 5 Draft Loop mit MIP\n",
        "\n",
        "for pick_idx, team in enumerate(draft_order, start=1):\n",
        "\n",
        "    for p in available:\n",
        "        ranks = df_sorted.loc[df_sorted.Player == p, 'Rank']\n",
        "        if len(ranks) != 1:\n",
        "            print(f'Problem bei Spieler {p}: Anzahl gefundener Ränge = {len(ranks)}')\n",
        "\n",
        "    rank_dict = dict(zip(df_sorted['Player'], df_sorted['Rank']))\n",
        "    remaining_players = sorted(available, key=lambda p: rank_dict.get(p, float('inf')))\n",
        "    Rk = {p: i + 1 for i, p in enumerate(remaining_players)}\n",
        "    player_vars       = set(remaining_players) | set(rosters[team])\n",
        "    picks_remaining   = num_rounds - len(rosters[team])\n",
        "\n",
        "    if team == DM_team:\n",
        "        m = Model(sense=maximize, solver_name='CBC')\n",
        "\n",
        "        y = {i: m.add_var(var_type=BINARY, name=f'y_{i}') for i in remaining_players}\n",
        "        x = {(i, t): m.add_var(var_type=CONTINUOUS, name=f'x_{i}_{t}') for i in remaining_players for t in weeks}\n",
        "        z = {t: m.add_var(var_type=BINARY, name=f'z_{t}') for t in weeks}\n",
        "\n",
        "        m.objective = (\n",
        "            lambda_0    * xsum(season_projections_dict[i][t] * x[i, t]        for i in remaining_players for t in weeks)\n",
        "            + lambda_1  * xsum(z[t]                                           for t in weeks[:15])\n",
        "            + lambda_2  * xsum(z[t]                                           for t in weeks[15:])\n",
        "            + lambda_3  * xsum(season_projections_dict[i]['dropoff'] * y[i]   for i in remaining_players)\n",
        "            - lambda_4  * xsum(season_projections_dict[i]['VOR'] * y[i]       for i in remaining_players)\n",
        "        )\n",
        "\n",
        "        m += xsum(y[i] for i in remaining_players) == picks_remaining\n",
        "\n",
        "        for pos_name, req in lineup_req.items():\n",
        "            if pos_name != 'FLEX':\n",
        "                already_satisfied = sum(1 for p in rosters[team] if pos[p] == pos_name)\n",
        "                need = max(0, req - already_satisfied)\n",
        "                m += xsum(y[i] for i in remaining_players if pos[i] == pos_name) >= need\n",
        "\n",
        "        for t in weeks:\n",
        "            for j in positions - {'FLEX'}:\n",
        "                m += xsum(y[i] for i in remaining_players if pos[i] == j) <= max_req[j]\n",
        "            for i in remaining_players:\n",
        "                m += (\n",
        "                    (x[i, t] if pos[i] in positions - {'FLEX'} else 0) +\n",
        "                    (x[i, t] if pos[i] in flex_eligible else 0)\n",
        "                    <= 1\n",
        "                )\n",
        "        for i in remaining_players:\n",
        "            for t in weeks:\n",
        "                m += x[i, t] <= y[i]\n",
        "        for t in weeks:\n",
        "            m += z[t] <= xsum(season_projections_dict[i][t] * x[i, t] for i in remaining_players) / beta[t]\n",
        "\n",
        "        n_k = pick_idx\n",
        "        for future_pick in range(pick_idx + 1, pick_idx + picks_remaining * len(teams), len(teams)):\n",
        "            top_cut = int(alpha * (future_pick - n_k))\n",
        "            if top_cut > 0:\n",
        "                top_players = [i for i, r in Rk.items() if r <= top_cut]\n",
        "                m += xsum(y[i] for i in top_players) <= ((future_pick - n_k) // len(teams))\n",
        "\n",
        "        m.optimize()\n",
        "        if m.num_solutions == 0:\n",
        "            raise RuntimeError(f'No feasible solution at pick {pick_idx}. Check constraints and player pool.')\n",
        "\n",
        "        print(f\"\\n--- DM Pick {pick_idx} ---\")\n",
        "        for i in remaining_players:\n",
        "            if y[i].x is not None and y[i].x >= 0.9:\n",
        "                ttl = sum(season_projections_dict[i][t] for t in weeks)\n",
        "                vor = season_projections_dict[i]['VOR']\n",
        "                print(f\"{i:25} ({pos[i]})  TTL={ttl:6.1f}   VOR={vor:6.1f}\")\n",
        "\n",
        "        chosen = [i for i in remaining_players if y[i].x is not None and y[i].x >= 0.99 and i not in rosters[team]]\n",
        "        if not chosen:\n",
        "            raise RuntimeError(f'No feasible pick at {pick_idx}')\n",
        "        pick = min(chosen, key=lambda i: Rk[i])\n",
        "\n",
        "    else:\n",
        "        current_round   = (pick_idx - 1) // len(teams) + 1\n",
        "        dynamic_topk_pct = min(current_round * 2 * topk_pct, 1.0)\n",
        "        pick = opponent_pick(\n",
        "            roster    = rosters[team],\n",
        "            available = available,\n",
        "            Rk        = Rk,\n",
        "            lineup_req= lineup_req,\n",
        "            topk_pct  = dynamic_topk_pct\n",
        "        )\n",
        "\n",
        "    rosters[team].append(pick)\n",
        "    available.remove(pick)\n",
        "    draft_log.append({\n",
        "        'Pick':    pick_idx,\n",
        "        'Team':    team,\n",
        "        'Player':  pick,\n",
        "        'Round':   (pick_idx - 1) // len(teams) + 1,\n",
        "        'POS':     pos[pick]\n",
        "    })\n",
        "\n",
        "# 6 Ergebnisse zusammenführen\n",
        "\n",
        "df_draft = pd.DataFrame(draft_log)\n",
        "print(m.status)\n",
        "print(m)\n"
      ],
      "metadata": {
        "id": "Z-XUxN-O_WxC"
      },
      "execution_count": null,
      "outputs": []
    },
    {
      "cell_type": "markdown",
      "source": [
        "# 4 Ergebnisaufbereitung: Draft-Log exportieren und zusammenführen"
      ],
      "metadata": {
        "id": "3r7yM9HqLr9I"
      }
    },
    {
      "cell_type": "code",
      "source": [
        "# Gesamtprojektion pro Team\n",
        "team_ttl_proj = (\n",
        "    df_draft\n",
        "    .merge(season_projections[['Player','TTL']], on='Player', how='left')\n",
        "    .assign(TTL=lambda df: df['TTL'].fillna(0))\n",
        "    .groupby('Team')['TTL']\n",
        "    .sum()\n",
        "    .reset_index(name='TTL_proj')\n",
        ")\n",
        "print(team_ttl_proj)\n",
        "\n",
        "# Positionen zählen\n",
        "position_counts = df_draft.pivot_table(\n",
        "    index='Team', columns='POS', aggfunc='size', fill_value=0\n",
        ")\n",
        "print(position_counts)\n",
        "\n",
        "# Draft-Infos pro Team\n",
        "result_dfs = {\n",
        "    team: (\n",
        "        df_draft[df_draft['Team']==team]\n",
        "        .sort_values('Pick')\n",
        "        .assign(Pick_Info=lambda df:\n",
        "            'Round '+df['Round'].astype(str)+' Pick '+df['Pick'].astype(str))\n",
        "        [['Player','Pick_Info','POS']]\n",
        "    )\n",
        "    for team in df_draft['Team'].unique()\n",
        "}\n",
        "\n",
        "for team, df in result_dfs.items():\n",
        "    print(f'=== {team} ===')\n",
        "    print(df)\n",
        "    print()\n"
      ],
      "metadata": {
        "id": "uaqDJewE1-rU"
      },
      "execution_count": null,
      "outputs": []
    },
    {
      "cell_type": "markdown",
      "source": [
        "# 6 Evaluation"
      ],
      "metadata": {
        "id": "ZjDnhCy5LsEr"
      }
    },
    {
      "cell_type": "markdown",
      "source": [
        "## 6.1 Reale projections laden"
      ],
      "metadata": {
        "id": "8HgSF_QwR_DW"
      }
    },
    {
      "cell_type": "code",
      "source": [
        "roster_projections = (\n",
        "    df_draft\n",
        "      .merge(\n",
        "         real_projections.drop(columns=['POS']),\n",
        "         on='Player',\n",
        "         how='left'\n",
        "      )\n",
        "      .sort_values(['Team','Pick'])\n",
        "      .sort_values(by=['Team', 'Pick'])\n",
        "      .reset_index(drop=True)\n",
        ")"
      ],
      "metadata": {
        "id": "dQ_sLYKEvked"
      },
      "execution_count": null,
      "outputs": []
    },
    {
      "cell_type": "markdown",
      "source": [
        "## 6.2 Liga Schedule aufbauen"
      ],
      "metadata": {
        "id": "kvMxk3ezSH7f"
      }
    },
    {
      "cell_type": "code",
      "source": [
        "num_reg_weeks = 14\n",
        "playoff_weeks = [15, 16, 17]\n",
        "\n",
        "def create_reg_schedule(teams):\n",
        "    n = len(teams)\n",
        "    schedule = []\n",
        "    for week in range(num_reg_weeks):\n",
        "        week_matches = []\n",
        "        for i in range(n//2):\n",
        "            team1 = teams[i]\n",
        "            team2 = teams[n-1-i]\n",
        "            week_matches.append((team1, team2))\n",
        "        schedule.append(week_matches)\n",
        "        teams = [teams[0]] + [teams[-1]] + teams[1:-1]\n",
        "    return schedule\n",
        "\n",
        "reg_schedule = create_reg_schedule(teams)"
      ],
      "metadata": {
        "id": "wHF0X2MR0Yd5"
      },
      "execution_count": null,
      "outputs": []
    },
    {
      "cell_type": "markdown",
      "source": [
        "## 6.3 Line-Up anhand greedy Ansatz aufstellen"
      ],
      "metadata": {
        "id": "UVPcG776SPyj"
      }
    },
    {
      "cell_type": "code",
      "source": [
        "# Roster limits\n",
        "lineup_req = {'QB': 1, 'RB': 2, 'WR': 2, 'TE': 1, 'K': 1, 'DST': 1}\n",
        "\n",
        "# Für jede Woche und jedes Team die beste Aufstellung bestimmen\n",
        "def get_best_lineup(team, week, roster_projections, lineup_req):\n",
        "    week_col = f'Week_{week}'\n",
        "    team_roster = roster_projections[roster_projections['Team'] == team]\n",
        "    lineup = []\n",
        "    used_players = set()\n",
        "\n",
        "    for pos, limit in lineup_req.items():\n",
        "        if pos != 'FLEX':\n",
        "            candidates = team_roster[team_roster['POS'] == pos]\n",
        "        else:\n",
        "            candidates = team_roster[\n",
        "                (team_roster['POS'].isin(['RB', 'WR', 'TE'])) &\n",
        "                (~team_roster['Player'].isin(used_players))\n",
        "            ]\n",
        "\n",
        "        starters = candidates.sort_values(week_col, ascending=False).head(limit)\n",
        "        lineup.append(starters)\n",
        "        used_players.update(starters['Player'])\n",
        "\n",
        "    return pd.concat(lineup)\n",
        "\n",
        "\n",
        "# Punkte aus real_data holen\n",
        "def get_actual_points(lineup, week, real_data):\n",
        "    merged = lineup.merge(\n",
        "        real_data[real_data['week'] == week],\n",
        "        left_on='Player', right_on='Player', how='left'\n",
        "    )\n",
        "    # Fülle fehlende Werte (z.B. bei Bye Weeks) mit 0\n",
        "    merged['fantasy_points_ppr'] = merged['fantasy_points_ppr'].fillna(0)\n",
        "    return merged['fantasy_points_ppr'].sum()\n",
        "\n",
        "# Für alle Wochen und alle Matchups durchlaufen\n",
        "results = []\n",
        "for week_idx, matchups in enumerate(reg_schedule, 1):\n",
        "    for team1, team2 in matchups:\n",
        "        lineup1 = get_best_lineup(team1, week_idx, roster_projections, lineup_req)\n",
        "        lineup2 = get_best_lineup(team2, week_idx, roster_projections, lineup_req)\n",
        "        points1 = get_actual_points(lineup1, week_idx, real_data)\n",
        "        points2 = get_actual_points(lineup2, week_idx, real_data)\n",
        "        winner = team1 if points1 > points2 else team2 if points2 > points1 else 'Unentschieden'\n",
        "        loser = team1 if points1 < points2 else team2 if points2 < points1 else 'Unentschieden'\n",
        "        results.append({\n",
        "            'Woche': week_idx,\n",
        "            'Team 1': team1,\n",
        "            'Team 2': team2,\n",
        "            'Punkte Team 1': points1,\n",
        "            'Punkte Team 2': points2,\n",
        "            'Sieger': winner,\n",
        "            'Verlierer': loser\n",
        "        })\n",
        "df_results = pd.DataFrame(results)"
      ],
      "metadata": {
        "id": "2_6mLQh10Dul"
      },
      "execution_count": null,
      "outputs": []
    },
    {
      "cell_type": "markdown",
      "source": [
        "## 6.4 Analyse des Line-Up"
      ],
      "metadata": {
        "id": "rmKYDpBqSaKp"
      }
    },
    {
      "cell_type": "code",
      "source": [
        "def get_lineup_and_bench(team, week, roster_projections, real_data, lineup_req):\n",
        "    week_col = f'Week_{week}'\n",
        "    team_roster = roster_projections[roster_projections['Team'] == team].copy()\n",
        "\n",
        "    lineup = get_best_lineup(team, week, roster_projections, lineup_req)\n",
        "\n",
        "    lineup_players = set(lineup['Player'])\n",
        "    bench = team_roster[~team_roster['Player'].isin(lineup_players)].copy()\n",
        "\n",
        "    week_actuals = real_data[real_data['week'] == week][['Player', 'fantasy_points_ppr']]\n",
        "    week_actuals = week_actuals.rename(columns={'fantasy_points_ppr': 'Actual_Points'})\n",
        "\n",
        "    def process_df(df):\n",
        "        df['Projected_Points'] = df[week_col]\n",
        "        df.drop(columns=[col for col in df.columns if col.startswith(\"Week_\")], inplace=True)\n",
        "        df = df.merge(week_actuals, on='Player', how='left')\n",
        "        df['Actual_Points'] = df['Actual_Points'].fillna(0)\n",
        "        return df\n",
        "\n",
        "    lineup = process_df(lineup)\n",
        "    bench = process_df(bench)\n",
        "\n",
        "    return lineup, bench\n",
        "\n",
        "lineup, bench = get_lineup_and_bench(DM_team, 1, roster_projections, real_data, lineup_req)\n",
        "\n",
        "pd.set_option('display.max_rows', 30)\n",
        "\n",
        "print(\"=== Lineup (Week 1) ===\")\n",
        "display(lineup[['Player', 'POS', 'Projected_Points', 'Actual_Points']])\n",
        "\n",
        "print(\"=== Bench (Week 1) ===\")\n",
        "display(bench[['Player', 'POS', 'Projected_Points', 'Actual_Points']])\n"
      ],
      "metadata": {
        "id": "YaEYcMId0FxR"
      },
      "execution_count": null,
      "outputs": []
    },
    {
      "cell_type": "markdown",
      "source": [
        "## 6.5 Auspielen der Liga inklusive Playoffs"
      ],
      "metadata": {
        "id": "Xy5-qm1LSne2"
      }
    },
    {
      "cell_type": "code",
      "source": [
        "# Deine vorhandene Liste mit Teams\n",
        "teams = [f'Team {i+1}' for i in range(num_teams)]\n",
        "\n",
        "# Sieger und Verlierer zählen (Unentschieden ausschließen)\n",
        "wins = df_results[df_results['Sieger'] != 'Unentschieden']['Sieger'].value_counts()\n",
        "losses = df_results[df_results['Verlierer'] != 'Unentschieden']['Verlierer'].value_counts()\n",
        "\n",
        "# Draws zählen: alle Teams, die in einem Unentschieden beteiligt waren\n",
        "draws = (\n",
        "    df_results[df_results['Sieger'] == 'Unentschieden'][['Team 1', 'Team 2']]\n",
        "    .stack()\n",
        "    .value_counts()\n",
        ")\n",
        "\n",
        "points_for = pd.concat([\n",
        "    df_results[['Team 1', 'Punkte Team 1']].rename(columns={'Team 1': 'Team', 'Punkte Team 1': 'Points'}),\n",
        "    df_results[['Team 2', 'Punkte Team 2']].rename(columns={'Team 2': 'Team', 'Punkte Team 2': 'Points'})\n",
        "])\n",
        "points_for = points_for.groupby('Team')['Points'].sum()\n",
        "\n",
        "# Punkte, die jedes Team kassiert hat (\"Points Against\")\n",
        "points_against = pd.concat([\n",
        "    df_results[['Team 1', 'Punkte Team 2']].rename(columns={'Team 1': 'Team', 'Punkte Team 2': 'Points'}),\n",
        "    df_results[['Team 2', 'Punkte Team 1']].rename(columns={'Team 2': 'Team', 'Punkte Team 1': 'Points'})\n",
        "])\n",
        "points_against = points_against.groupby('Team')['Points'].sum()\n",
        "\n",
        "# Zusammenführen in ein DataFrame\n",
        "record = pd.DataFrame({'Team': teams})\n",
        "record['Wins'] = record['Team'].map(wins).fillna(0).astype(int)\n",
        "record['Losses'] = record['Team'].map(losses).fillna(0).astype(int)\n",
        "record['Draws'] = record['Team'].map(draws).fillna(0).astype(int)\n",
        "record['Points For'] = record['Team'].map(points_for).fillna(0)\n",
        "record['Points Against'] = record['Team'].map(points_against).fillna(0)\n",
        "record = record.sort_values(by=['Wins', 'Draws', 'Points For'], ascending=[False, False, False]).reset_index(drop=True)"
      ],
      "metadata": {
        "id": "uid_HBQFC78O"
      },
      "execution_count": null,
      "outputs": []
    },
    {
      "cell_type": "code",
      "source": [
        "# Setze die Playoff-Wochen\n",
        "playoff_weeks = [15, 16, 17]\n",
        "\n",
        "# Teams nach Rang sortieren (wie zuvor)\n",
        "ranked_teams = record['Team'].tolist()\n",
        "\n",
        "# Woche 15: Seed 3 vs 6, Seed 4 vs 5\n",
        "week_15_matchups = [\n",
        "    (ranked_teams[2], ranked_teams[5]),  # Match 1\n",
        "    (ranked_teams[3], ranked_teams[4])   # Match 2\n",
        "]\n",
        "\n",
        "# Ergebnisse Woche 15\n",
        "week15_results = []\n",
        "for team1, team2 in week_15_matchups:\n",
        "    lineup1 = get_best_lineup(team1, 15, roster_projections, lineup_req)\n",
        "    lineup2 = get_best_lineup(team2, 15, roster_projections, lineup_req)\n",
        "    points1 = get_actual_points(lineup1, 15, real_data)\n",
        "    points2 = get_actual_points(lineup2, 15, real_data)\n",
        "    winner = team1 if points1 > points2 else team2 if points2 > points1 else 'Unentschieden'\n",
        "    loser = team1 if points1 < points2 else team2 if points2 < points1 else 'Unentschieden'\n",
        "    week15_results.append({\n",
        "        'Woche': 15,\n",
        "        'Team 1': team1,\n",
        "        'Team 2': team2,\n",
        "        'Punkte Team 1': points1,\n",
        "        'Punkte Team 2': points2,\n",
        "        'Sieger': winner,\n",
        "        'Verlierer': loser\n",
        "    })\n",
        "\n",
        "# Extrahiere Gewinner\n",
        "winners_15 = [r['Sieger'] for r in week15_results]\n",
        "\n",
        "# Woche 16 Matchups:\n",
        "# Match 3: Winner Match 1 vs Seed 2\n",
        "# Match 4: Winner Match 2 vs Seed 1\n",
        "week_16_matchups = [\n",
        "    (winners_15[0], ranked_teams[1]),  # gegen Seed 2\n",
        "    (winners_15[1], ranked_teams[0])   # gegen Seed 1\n",
        "]\n",
        "\n",
        "week16_results = []\n",
        "for team1, team2 in week_16_matchups:\n",
        "    lineup1 = get_best_lineup(team1, 16, roster_projections, lineup_req)\n",
        "    lineup2 = get_best_lineup(team2, 16, roster_projections, lineup_req)\n",
        "    points1 = get_actual_points(lineup1, 16, real_data)\n",
        "    points2 = get_actual_points(lineup2, 16, real_data)\n",
        "    winner = team1 if points1 > points2 else team2 if points2 > points1 else 'Unentschieden'\n",
        "    loser = team1 if points1 < points2 else team2 if points2 < points1 else 'Unentschieden'\n",
        "    week16_results.append({\n",
        "        'Woche': 16,\n",
        "        'Team 1': team1,\n",
        "        'Team 2': team2,\n",
        "        'Punkte Team 1': points1,\n",
        "        'Punkte Team 2': points2,\n",
        "        'Sieger': winner,\n",
        "        'Verlierer': loser\n",
        "    })\n",
        "\n",
        "# Extrahiere Gewinner\n",
        "winners_16 = [r['Sieger'] for r in week16_results]\n",
        "\n",
        "# Woche 17: Finale\n",
        "week17_matchups = [(winners_16[0], winners_16[1])]\n",
        "\n",
        "week17_results = []\n",
        "for team1, team2 in week17_matchups:\n",
        "    lineup1 = get_best_lineup(team1, 17, roster_projections, lineup_req)\n",
        "    lineup2 = get_best_lineup(team2, 17, roster_projections, lineup_req)\n",
        "    points1 = get_actual_points(lineup1, 17, real_data)\n",
        "    points2 = get_actual_points(lineup2, 17, real_data)\n",
        "    winner = team1 if points1 > points2 else team2 if points2 > points1 else 'Unentschieden'\n",
        "    loser = team1 if points1 < points2 else team2 if points2 < points1 else 'Unentschieden'\n",
        "    week17_results.append({\n",
        "        'Woche': 17,\n",
        "        'Team 1': team1,\n",
        "        'Team 2': team2,\n",
        "        'Punkte Team 1': points1,\n",
        "        'Punkte Team 2': points2,\n",
        "        'Sieger': winner,\n",
        "        'Verlierer': loser\n",
        "    })\n",
        "\n",
        "# Ergebnisse zusammenführen\n",
        "df_playoff_results = pd.DataFrame(week15_results + week16_results + week17_results)\n",
        "\n",
        "# Optional an bestehende Ergebnisse anhängen:\n",
        "df_results = pd.concat([df_results, df_playoff_results], ignore_index=True)\n",
        "\n",
        "# Finale anzeigen\n",
        "champion = df_playoff_results[df_playoff_results['Woche'] == 17]['Sieger'].values[0]\n",
        "print(f\"DM-Team ist: {DM_team}\")\n",
        "print(f\"Der Champion ist: {champion}\")"
      ],
      "metadata": {
        "id": "7JDGoTZYC9ka"
      },
      "execution_count": null,
      "outputs": []
    }
  ]
}