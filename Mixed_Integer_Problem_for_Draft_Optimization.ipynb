{
  "nbformat": 4,
  "nbformat_minor": 0,
  "metadata": {
    "colab": {
      "provenance": [],
      "authorship_tag": "ABX9TyPlmEe+oLsNHX1S0qjf5QOu",
      "include_colab_link": true
    },
    "kernelspec": {
      "name": "python3",
      "display_name": "Python 3"
    },
    "language_info": {
      "name": "python"
    }
  },
  "cells": [
    {
      "cell_type": "markdown",
      "metadata": {
        "id": "view-in-github",
        "colab_type": "text"
      },
      "source": [
        "<a href=\"https://colab.research.google.com/github/alexk2206/Data_Driven_Fantasy_Football/blob/dev/Mixed_Integer_Problem_for_Draft_Optimization.ipynb\" target=\"_parent\"><img src=\"https://colab.research.google.com/assets/colab-badge.svg\" alt=\"Open In Colab\"/></a>"
      ]
    },
    {
      "cell_type": "markdown",
      "source": [
        "# 1  Initialisierung und Konfiguration"
      ],
      "metadata": {
        "id": "zHvxkZEnKHSO"
      }
    },
    {
      "cell_type": "markdown",
      "source": [
        "## 1.1 Bibliotheken installieren und laden\n"
      ],
      "metadata": {
        "id": "bYSnju5zJFn2"
      }
    },
    {
      "cell_type": "code",
      "execution_count": 1,
      "metadata": {
        "id": "OOi4gsAzGkxy",
        "outputId": "eaa9dca2-fdc7-4470-a7ae-e88a11f1193a",
        "colab": {
          "base_uri": "https://localhost:8080/"
        }
      },
      "outputs": [
        {
          "output_type": "stream",
          "name": "stdout",
          "text": [
            "Collecting mip\n",
            "  Downloading mip-1.15.0-py3-none-any.whl.metadata (21 kB)\n",
            "Collecting cffi==1.15.* (from mip)\n",
            "  Downloading cffi-1.15.1-cp311-cp311-manylinux_2_17_x86_64.manylinux2014_x86_64.whl.metadata (1.1 kB)\n",
            "Requirement already satisfied: pycparser in /usr/local/lib/python3.11/dist-packages (from cffi==1.15.*->mip) (2.22)\n",
            "Downloading mip-1.15.0-py3-none-any.whl (15.3 MB)\n",
            "\u001b[2K   \u001b[90m━━━━━━━━━━━━━━━━━━━━━━━━━━━━━━━━━━━━━━━━\u001b[0m \u001b[32m15.3/15.3 MB\u001b[0m \u001b[31m36.9 MB/s\u001b[0m eta \u001b[36m0:00:00\u001b[0m\n",
            "\u001b[?25hDownloading cffi-1.15.1-cp311-cp311-manylinux_2_17_x86_64.manylinux2014_x86_64.whl (462 kB)\n",
            "\u001b[2K   \u001b[90m━━━━━━━━━━━━━━━━━━━━━━━━━━━━━━━━━━━━━━━━\u001b[0m \u001b[32m462.6/462.6 kB\u001b[0m \u001b[31m11.2 MB/s\u001b[0m eta \u001b[36m0:00:00\u001b[0m\n",
            "\u001b[?25hInstalling collected packages: cffi, mip\n",
            "  Attempting uninstall: cffi\n",
            "    Found existing installation: cffi 1.17.1\n",
            "    Uninstalling cffi-1.17.1:\n",
            "      Successfully uninstalled cffi-1.17.1\n",
            "\u001b[31mERROR: pip's dependency resolver does not currently take into account all the packages that are installed. This behaviour is the source of the following dependency conflicts.\n",
            "pygit2 1.18.0 requires cffi>=1.17.0, but you have cffi 1.15.1 which is incompatible.\u001b[0m\u001b[31m\n",
            "\u001b[0mSuccessfully installed cffi-1.15.1 mip-1.15.0\n"
          ]
        }
      ],
      "source": [
        "try:\n",
        "    import mip\n",
        "except ImportError:\n",
        "    import sys\n",
        "    !{sys.executable} -m pip install mip\n",
        "import pandas as pd\n",
        "import numpy as np\n",
        "import re\n",
        "import random\n",
        "from mip import Model, BINARY, CONTINUOUS, xsum, maximize"
      ]
    },
    {
      "cell_type": "markdown",
      "source": [
        "## 1.2 Liga-Parameter und Rahmenbedingungen definieren"
      ],
      "metadata": {
        "id": "O5zfn8FeKB7Y"
      }
    },
    {
      "cell_type": "code",
      "source": [
        "year = 2024\n",
        "num_teams = 12\n",
        "num_rounds = 15\n",
        "num_weeks = 17\n",
        "allowed_positions = {'QB', 'RB', 'WR', 'TE', 'K', 'DST'}\n",
        "lineup_req = {'QB': 1, 'RB': 2, 'WR': 2, 'TE': 1, 'FLEX': 1, 'K': 1, 'DST': 1}"
      ],
      "metadata": {
        "id": "yqiYtqZwKYRL"
      },
      "execution_count": 2,
      "outputs": []
    },
    {
      "cell_type": "markdown",
      "source": [
        "# 2 Datenbeschaffung und -vorverarbeitung\n"
      ],
      "metadata": {
        "id": "bkmXeYCJKaNJ"
      }
    },
    {
      "cell_type": "markdown",
      "source": [
        "## 2.1 ADP, Bye Weeks und Projections laden"
      ],
      "metadata": {
        "id": "af2FRpLJKguX"
      }
    },
    {
      "cell_type": "code",
      "source": [
        "adp_url = f'https://raw.githubusercontent.com/alexk2206/Data_Driven_Fantasy_Football/refs/heads/main/pre_season_data/adp_projections_{year}.csv'\n",
        "player_adp = (\n",
        "    pd.read_csv(adp_url)\n",
        "      .rename(columns={'player': 'Player', 'position': 'POS', 'adp': 'ADP', 'points': 'TTL'})\n",
        "      .fillna({'ADP': 999})\n",
        "      .loc[:, ['Player', 'POS', 'ADP', 'TTL']]\n",
        "      .sort_values('ADP')\n",
        "      .reset_index(drop=True)\n",
        ")\n",
        "\n",
        "\n",
        "bye_url = f'https://raw.githubusercontent.com/alexk2206/Data_Driven_Fantasy_Football/refs/heads/dev/bye_weeks/bye_weeks_{year}.csv'\n",
        "bye_weeks = pd.read_csv(bye_url)\n",
        "\n",
        "\n",
        "season_projection_url = f'https://raw.githubusercontent.com/alexk2206/Data_Driven_Fantasy_Football/refs/heads/main/pre_season_data/adp_projections_{year}.csv'\n",
        "season_projections = (\n",
        "    pd.read_csv(season_projection_url)\n",
        "      .rename(columns={'player': 'Player', 'position': 'POS', 'team': 'Team', 'points': 'TTL', 'adp': 'ADP'})\n",
        "      .loc[:, ['Player', 'POS', 'Team', 'TTL', 'ADP']]\n",
        "      .merge(bye_weeks[['Abbreviation', 'Bye']], left_on='Team', right_on='Abbreviation', how='left')\n",
        "      .drop(columns='Abbreviation')\n",
        "      .drop_duplicates(subset='Player', keep='first')\n",
        ")\n",
        "season_projections['avg_proj'] = season_projections['TTL'] / np.where(\n",
        "    season_projections['Bye'].isna(),\n",
        "    num_weeks,\n",
        "    num_weeks - 1\n",
        ")\n",
        "week_cols = [f'Week_{w}' for w in range(1, num_weeks + 1)]\n",
        "for week in week_cols:\n",
        "    season_projections[week] = np.where(\n",
        "        season_projections['Bye'] == week,\n",
        "        0,\n",
        "        season_projections['avg_proj']\n",
        "    )\n",
        "season_projections = season_projections.drop(columns='avg_proj')"
      ],
      "metadata": {
        "id": "bwLesuHeKeIH"
      },
      "execution_count": 3,
      "outputs": []
    },
    {
      "cell_type": "markdown",
      "source": [
        "## 2.2 Berechnung von TTL, Dropoff und VOR"
      ],
      "metadata": {
        "id": "LHcezuGNLPQ8"
      }
    },
    {
      "cell_type": "code",
      "source": [
        "dropoff_w = {'QB':1.0,'RB':1.0,'WR':1.0,'TE':0.9,'K':0.4,'DST':0.3}\n",
        "vor_w     = {'QB':0.8,'RB':1.0,'WR':1.0,'TE':0.8,'K':0.25,'DST':0.25}\n",
        "\n",
        "rep_ttl = (\n",
        "    season_projections\n",
        "      .groupby('POS')['TTL']\n",
        "      .apply(lambda s: s.nlargest(lineup_req[s.name]*num_teams)\n",
        "                   .iloc[-1]\n",
        "             if len(s) >= lineup_req[s.name]*num_teams else 0)\n",
        ")\n",
        "\n",
        "season_projections = (\n",
        "    season_projections\n",
        "      .sort_values(['POS','TTL'], ascending=[True,False])\n",
        "      .assign(\n",
        "          dropoff=lambda df: (\n",
        "              df.groupby('POS')['TTL']\n",
        "                .diff(-1)\n",
        "                .fillna(0)\n",
        "                .mul(df['POS'].map(dropoff_w))\n",
        "          ),\n",
        "          VOR=lambda df: (\n",
        "              (df['TTL'] - df['POS'].map(rep_ttl))\n",
        "                .clip(lower=0)\n",
        "                .mul(df['POS'].map(vor_w))\n",
        "          )\n",
        "      )\n",
        "      .fillna({'dropoff': 0, 'VOR': 0, 'ADP': 999})\n",
        "      .sort_values(['ADP', 'TTL'], ascending=[True, False])\n",
        "      .reset_index(drop=True)\n",
        ")\n"
      ],
      "metadata": {
        "id": "qqIOqTzVRWCd"
      },
      "execution_count": 4,
      "outputs": []
    },
    {
      "cell_type": "markdown",
      "source": [
        "# 3 Modellparameter und Variablenaufbau"
      ],
      "metadata": {
        "id": "9Q_UJJyALPTa"
      }
    },
    {
      "cell_type": "markdown",
      "source": [
        "## 3.1 Spielerlisten und Parameter-Mapping"
      ],
      "metadata": {
        "id": "u9oR4gCbLPWS"
      }
    },
    {
      "cell_type": "code",
      "source": [
        "# 1) Spieler-DataFrame mit Rang\n",
        "players = (\n",
        "    season_projections[['Player','POS','ADP','TTL']]\n",
        "    .fillna({'ADP': 999})\n",
        "    .sort_values(['ADP','TTL'], ascending=[True, False])\n",
        "    .assign(Rank=lambda df: df.reset_index(drop=True).index + 1)\n",
        "    .reset_index(drop=True)\n",
        ")\n",
        "players_list = players['Player'].tolist()\n",
        "Rk = dict(zip(players_list, players['Rank']))\n",
        "\n",
        "# 2) Basis-Parameter\n",
        "positions      = {'QB','RB','WR','TE','K','DST','FLEX'}\n",
        "flex_eligible  = {'RB','WR','TE'}\n",
        "weeks          = list(range(1,18))\n",
        "pos_map        = season_projections.set_index('Player')['POS'].to_dict()\n",
        "lineup_req     = {'QB':1,'RB':2,'WR':2,'TE':1,'K':1,'DST':1,'FLEX':1}\n",
        "max_req        = {'QB':3,'RB':999,'WR':999,'TE':2,'K':1,'DST':1}\n",
        "week_cols      = [c for c in season_projections.columns if c.startswith('Week_')]\n",
        "\n",
        "# 3) Projektionen-Dictionary\n",
        "season_projections_dict = {\n",
        "    player: {\n",
        "        **{int(c.split('_')[1]): val for c,val in row[week_cols].items()},\n",
        "        'dropoff': row['dropoff'],\n",
        "        'VOR':     row['VOR']\n",
        "    }\n",
        "    for player,row in season_projections.set_index('Player').iterrows()\n",
        "}\n",
        "\n",
        "# 3.2) VOR-Dictionary\n",
        "vor_dict = {p: season_projections_dict[p]['VOR'] for p in season_projections_dict}\n",
        "\n",
        "# 4) Weitere Konstanten\n",
        "beta              = dict.fromkeys(weeks, 120.0)\n",
        "weight_score      = 1.0    # entspricht ehem. lambda_0\n",
        "weight_win_rs     = 3      # entspricht ehem. lambda_1\n",
        "weight_win_po     = 4      # entspricht ehem. lambda_2\n",
        "weight_dropoff    = 0.5    # entspricht ehem. lambda_3\n",
        "weight_vor        = 4      # entspricht ehem. lambda_4\n",
        "df_sorted         = players.copy()\n",
        "topk_pct          = 0.0025\n",
        "\n",
        "# 5) Teams & Draft-Reihenfolge\n",
        "teams       = [f'Team {i+1}' for i in range(num_teams)]\n",
        "DM_team     = teams[0]\n",
        "draft_order = [\n",
        "    team\n",
        "    for rnd in range(num_rounds)\n",
        "    for team in (teams if rnd % 2 == 0 else teams[::-1])\n",
        "]\n",
        "\n",
        "# 6) Gegner-Pick (kompakt)\n",
        "def opponent_pick(roster, available, Rk, lineup_req, topk_pct=topk_pct):\n",
        "    rem   = sorted(available, key=Rk.get)\n",
        "    topk  = max(1, int(len(rem)*topk_pct))\n",
        "    deficits = {\n",
        "        pos: lineup_req[pos] - sum(pos_map[p]==pos for p in roster)\n",
        "        for pos in lineup_req if pos!='FLEX'\n",
        "    }\n",
        "    needed = [pos for pos,d in deficits.items() if d>0]\n",
        "    pool   = [p for p in rem if pos_map[p] in needed] or rem[:topk]\n",
        "    return random.choice(pool[:topk])\n",
        "\n",
        "# 7) Draft-Initialisierung\n",
        "rosters     = {tm: [] for tm in teams}\n",
        "available   = set(players_list)\n",
        "draft_log   = []\n"
      ],
      "metadata": {
        "id": "Z-XUxN-O_WxC"
      },
      "execution_count": 16,
      "outputs": []
    },
    {
      "cell_type": "markdown",
      "source": [
        "## 3.2 Optimierungsvariablen und Zielfunktion konfigurieren"
      ],
      "metadata": {
        "id": "WDJpbBvQLPY1"
      }
    },
    {
      "cell_type": "code",
      "source": [
        "from mip import Model, BINARY, CONTINUOUS, xsum, maximize\n",
        "\n",
        "def optimize_pick(\n",
        "    team,\n",
        "    pick_idx,\n",
        "    picks_remaining,\n",
        "    rosters,\n",
        "    remaining_players,\n",
        "    f_dict,\n",
        "    vor_dict,\n",
        "    pos_map,\n",
        "    lineup_req,\n",
        "    max_req,\n",
        "    positions,\n",
        "    flex_eligible,\n",
        "    weeks,\n",
        "    beta,\n",
        "    alpha,\n",
        "    teams,\n",
        "    num_teams,\n",
        "    Rk\n",
        "):\n",
        "    # 1) Modell initialisieren\n",
        "    m = Model(sense=maximize, solver_name='CBC')\n",
        "\n",
        "    # 2) Decision-Vars\n",
        "    y = {i: m.add_var(var_type=BINARY, name=f'y_{i}')               for i in remaining_players}\n",
        "    x = {(i, t): m.add_var(var_type=CONTINUOUS, name=f'x_{i}_{t}')  for i in remaining_players for t in weeks}\n",
        "    z = {t: m.add_var(var_type=BINARY, name=f'z_{t}')               for t in weeks}\n",
        "\n",
        "    # 3) Zielfunktion sauber ausgeschrieben\n",
        "    m.objective = (\n",
        "        weight_score     * xsum(f_dict[i][t] * x[i, t]        for i in remaining_players for t in weeks)\n",
        "      + weight_win_rs    * xsum(z[t]                          for t in weeks[:15])\n",
        "      + weight_win_po    * xsum(z[t]                          for t in weeks[15:])\n",
        "      + weight_dropoff   * xsum(f_dict[i]['dropoff'] * y[i]   for i in remaining_players)\n",
        "      - weight_vor       * xsum(vor_dict.get(i, 0.0) * y[i]   for i in remaining_players)\n",
        "    )\n",
        "\n",
        "    # 4) Bereits gedraftete Spieler fixieren\n",
        "    for p in rosters[team]:\n",
        "        m += y[p] == 1\n",
        "\n",
        "    # 5) Anzahl neuer Picks\n",
        "    m += xsum(y[i] for i in remaining_players) == picks_remaining\n",
        "\n",
        "    # 6) Mindest-Positionen (ohne FLEX)\n",
        "    for pos_name, req in lineup_req.items():\n",
        "        if pos_name != 'FLEX':\n",
        "            have = sum(1 for p in rosters[team] if pos_map[p] == pos_name)\n",
        "            need = max(0, req - have)\n",
        "            m += xsum(y[i] for i in remaining_players\n",
        "                      if pos_map[i] == pos_name) >= need\n",
        "\n",
        "    # 7) Obergrenzen & Wochen-Constraints\n",
        "    for t in weeks:\n",
        "        # Obergrenzen pro Position\n",
        "        for j in positions - {'FLEX'}:\n",
        "            m += xsum(y[i] for i in remaining_players\n",
        "                      if pos_map[i] == j) <= max_req[j]\n",
        "\n",
        "        # Jeder Spieler max. einen Slot pro Woche\n",
        "        for i in remaining_players:\n",
        "            star = x[i, t] if pos_map[i] in positions - {'FLEX'} else 0\n",
        "            flex = x[i, t] if pos_map[i] in flex_eligible   else 0\n",
        "            m += star + flex <= 1\n",
        "            m += x[i, t] <= y[i]\n",
        "\n",
        "        # Win-Variable\n",
        "        m += z[t] <= xsum(f_dict[i][t] * x[i, t]\n",
        "                          for i in remaining_players) / beta[t]\n",
        "\n",
        "    # 8) Vorausschau-Constraint (Top-alpha)\n",
        "    n_k = pick_idx\n",
        "    for future_pick in range(pick_idx + 1,\n",
        "                             pick_idx + picks_remaining * len(teams),\n",
        "                             len(teams)):\n",
        "        top_cut = int(alpha * (future_pick - n_k))\n",
        "        if top_cut > 0:\n",
        "            top_players = [i for i, r in Rk.items() if r <= top_cut]\n",
        "            m += xsum(y[i] for i in top_players) <= ((future_pick - n_k) // len(teams))\n",
        "\n",
        "    # 9) Lösen\n",
        "    m.optimize()\n",
        "    if m.num_solutions == 0:\n",
        "        raise RuntimeError(f'No feasible solution at pick {pick_idx}')\n",
        "\n",
        "    # 10) Gewählten Spieler extrahieren\n",
        "    picks = [i for i in remaining_players\n",
        "             if y[i].x >= 0.99 and i not in rosters[team]]\n",
        "    return min(picks, key=lambda i: Rk[i])\n"
      ],
      "metadata": {
        "id": "wE2gtZlQ_XOB"
      },
      "execution_count": 13,
      "outputs": []
    },
    {
      "cell_type": "markdown",
      "source": [
        "# 3.3 Ausspielen des Drafts"
      ],
      "metadata": {
        "id": "3XnOTpLEBBnH"
      }
    },
    {
      "cell_type": "code",
      "source": [
        "# 8) Draft-Schleife: DM- und Gegner-Picks durchführen\n",
        "for pick_idx, team in enumerate(draft_order, start=1):\n",
        "    # verbleibende Picks und Ranking neu berechnen\n",
        "    picks_remaining   = num_rounds - len(rosters[team])\n",
        "    remaining_players = sorted(available, key=lambda p: Rk[p])\n",
        "    Rk                = {p: i+1 for i, p in enumerate(remaining_players)}\n",
        "\n",
        "    if team == DM_team:\n",
        "        pick = optimize_pick(\n",
        "            team,\n",
        "            pick_idx,\n",
        "            picks_remaining,\n",
        "            rosters,\n",
        "            remaining_players,\n",
        "            season_projections_dict,   # f_dict\n",
        "            vor_dict,\n",
        "            pos_map,\n",
        "            lineup_req,\n",
        "            max_req,\n",
        "            positions,\n",
        "            flex_eligible,\n",
        "            weeks,\n",
        "            beta,\n",
        "            alpha,\n",
        "            teams,\n",
        "            num_teams,\n",
        "            Rk\n",
        "        )\n",
        "    else:\n",
        "        pick = opponent_pick(rosters[team], available, Rk, lineup_req)\n",
        "\n",
        "    # Pick übernehmen\n",
        "    rosters[team].append(pick)\n",
        "    available.remove(pick)\n",
        "    draft_log.append({\n",
        "        'Team': team,\n",
        "        'Pick': pick_idx,\n",
        "        'Player': pick,\n",
        "        'POS': pos_map[pick]\n",
        "    })\n"
      ],
      "metadata": {
        "id": "6LvuPodlBEzc",
        "outputId": "6c67def5-380c-4d2e-a5f8-a7b6c2815c85",
        "colab": {
          "base_uri": "https://localhost:8080/",
          "height": 365
        }
      },
      "execution_count": 17,
      "outputs": [
        {
          "output_type": "error",
          "ename": "KeyError",
          "evalue": "'Breece Hall'",
          "traceback": [
            "\u001b[0;31m---------------------------------------------------------------------------\u001b[0m",
            "\u001b[0;31mKeyError\u001b[0m                                  Traceback (most recent call last)",
            "\u001b[0;32m<ipython-input-17-3394309700>\u001b[0m in \u001b[0;36m<cell line: 0>\u001b[0;34m()\u001b[0m\n\u001b[1;32m      7\u001b[0m \u001b[0;34m\u001b[0m\u001b[0m\n\u001b[1;32m      8\u001b[0m     \u001b[0;32mif\u001b[0m \u001b[0mteam\u001b[0m \u001b[0;34m==\u001b[0m \u001b[0mDM_team\u001b[0m\u001b[0;34m:\u001b[0m\u001b[0;34m\u001b[0m\u001b[0;34m\u001b[0m\u001b[0m\n\u001b[0;32m----> 9\u001b[0;31m         pick = optimize_pick(\n\u001b[0m\u001b[1;32m     10\u001b[0m             \u001b[0mteam\u001b[0m\u001b[0;34m,\u001b[0m\u001b[0;34m\u001b[0m\u001b[0;34m\u001b[0m\u001b[0m\n\u001b[1;32m     11\u001b[0m             \u001b[0mpick_idx\u001b[0m\u001b[0;34m,\u001b[0m\u001b[0;34m\u001b[0m\u001b[0;34m\u001b[0m\u001b[0m\n",
            "\u001b[0;32m<ipython-input-13-374230983>\u001b[0m in \u001b[0;36moptimize_pick\u001b[0;34m(team, pick_idx, picks_remaining, rosters, remaining_players, f_dict, vor_dict, pos_map, lineup_req, max_req, positions, flex_eligible, weeks, beta, alpha, teams, num_teams, Rk)\u001b[0m\n\u001b[1;32m     40\u001b[0m     \u001b[0;31m# 4) Bereits gedraftete Spieler fixieren\u001b[0m\u001b[0;34m\u001b[0m\u001b[0;34m\u001b[0m\u001b[0m\n\u001b[1;32m     41\u001b[0m     \u001b[0;32mfor\u001b[0m \u001b[0mp\u001b[0m \u001b[0;32min\u001b[0m \u001b[0mrosters\u001b[0m\u001b[0;34m[\u001b[0m\u001b[0mteam\u001b[0m\u001b[0;34m]\u001b[0m\u001b[0;34m:\u001b[0m\u001b[0;34m\u001b[0m\u001b[0;34m\u001b[0m\u001b[0m\n\u001b[0;32m---> 42\u001b[0;31m         \u001b[0mm\u001b[0m \u001b[0;34m+=\u001b[0m \u001b[0my\u001b[0m\u001b[0;34m[\u001b[0m\u001b[0mp\u001b[0m\u001b[0;34m]\u001b[0m \u001b[0;34m==\u001b[0m \u001b[0;36m1\u001b[0m\u001b[0;34m\u001b[0m\u001b[0;34m\u001b[0m\u001b[0m\n\u001b[0m\u001b[1;32m     43\u001b[0m \u001b[0;34m\u001b[0m\u001b[0m\n\u001b[1;32m     44\u001b[0m     \u001b[0;31m# 5) Anzahl neuer Picks\u001b[0m\u001b[0;34m\u001b[0m\u001b[0;34m\u001b[0m\u001b[0m\n",
            "\u001b[0;31mKeyError\u001b[0m: 'Breece Hall'"
          ]
        }
      ]
    },
    {
      "cell_type": "markdown",
      "source": [
        "# 4 Entwurfsphase (Draft-Optimierung)"
      ],
      "metadata": {
        "id": "B3MRQU2oLPcp"
      }
    },
    {
      "cell_type": "markdown",
      "source": [
        "## 4.1 Draft-Reihenfolge generieren"
      ],
      "metadata": {
        "id": "6uy2P7XaLPe2"
      }
    },
    {
      "cell_type": "markdown",
      "source": [
        "## 4.2 Optimierungsmodell für den MIP-Draft"
      ],
      "metadata": {
        "id": "xCUGmqSULPg7"
      }
    },
    {
      "cell_type": "markdown",
      "source": [
        "## 4.3 Gegnerische Picks simulieren"
      ],
      "metadata": {
        "id": "S5oKiGl8Lr6o"
      }
    },
    {
      "cell_type": "markdown",
      "source": [
        "# 5 Ergebnisaufbereitung"
      ],
      "metadata": {
        "id": "3r7yM9HqLr9I"
      }
    },
    {
      "cell_type": "markdown",
      "source": [
        "## 5.1 Draft-Log exportieren und zusammenführen"
      ],
      "metadata": {
        "id": "_mtA-wdjLr_Q"
      }
    },
    {
      "cell_type": "markdown",
      "source": [
        "## 5.2 Ergebnis-Statustext ausgeben"
      ],
      "metadata": {
        "id": "c066LdWHLsBU"
      }
    },
    {
      "cell_type": "markdown",
      "source": [
        "# 6 Evaluation"
      ],
      "metadata": {
        "id": "ZjDnhCy5LsEr"
      }
    }
  ]
}