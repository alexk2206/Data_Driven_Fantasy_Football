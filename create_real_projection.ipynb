{
  "nbformat": 4,
  "nbformat_minor": 0,
  "metadata": {
    "colab": {
      "provenance": [],
      "authorship_tag": "ABX9TyNhi+I6U+oVROwNP7tFst9q",
      "include_colab_link": true
    },
    "kernelspec": {
      "name": "python3",
      "display_name": "Python 3"
    },
    "language_info": {
      "name": "python"
    }
  },
  "cells": [
    {
      "cell_type": "markdown",
      "metadata": {
        "id": "view-in-github",
        "colab_type": "text"
      },
      "source": [
        "<a href=\"https://colab.research.google.com/github/alexk2206/Data_Driven_Fantasy_Football/blob/dev/create_real_projection.ipynb\" target=\"_parent\"><img src=\"https://colab.research.google.com/assets/colab-badge.svg\" alt=\"Open In Colab\"/></a>"
      ]
    },
    {
      "cell_type": "code",
      "execution_count": null,
      "metadata": {
        "id": "yalsEwi81_9d"
      },
      "outputs": [],
      "source": [
        "import pandas as pd"
      ]
    },
    {
      "cell_type": "code",
      "source": [
        "year = 2020\n",
        "max_week = 16\n",
        "base_url = f'https://raw.githubusercontent.com/alexk2206/Data_Driven_Fantasy_Football/refs/heads/dev/projection_data/{year}/projections_{year}_wk'\n",
        "weekly_dfs = []"
      ],
      "metadata": {
        "id": "u6ELr5oj2I8b"
      },
      "execution_count": null,
      "outputs": []
    },
    {
      "cell_type": "code",
      "source": [
        "for wk in range(1, max_week + 1):\n",
        "    url = f'{base_url}{wk}.csv'\n",
        "    try:\n",
        "        df = pd.read_csv(url)\n",
        "        df['week'] = wk\n",
        "        df['year'] = year\n",
        "        weekly_dfs.append(df)\n",
        "    except Exception as e:\n",
        "        print(f'Failed to load week {wk} from {url}: {e}')\n",
        "\n",
        "if weekly_dfs:\n",
        "    all_weeks_df = pd.concat(weekly_dfs, ignore_index=True)\n",
        "\n",
        "    # Analyse: Wie oft kommt jede Position pro Woche vor?\n",
        "    pos_counts = all_weeks_df.groupby(['week', 'position']).size().reset_index(name='count')\n",
        "    print(pos_counts)\n",
        "\n",
        "else:\n",
        "    print('No data loaded!')"
      ],
      "metadata": {
        "colab": {
          "base_uri": "https://localhost:8080/"
        },
        "id": "fxC4fzM-2pW1",
        "outputId": "d57572d5-064f-4b5b-b46a-9873162ebf2f"
      },
      "execution_count": null,
      "outputs": [
        {
          "output_type": "stream",
          "name": "stdout",
          "text": [
            "    week position  count\n",
            "0      1      DST     32\n",
            "1      1        K     32\n",
            "2      1       QB     72\n",
            "3      1       RB    132\n",
            "4      1       TE    114\n",
            "..   ...      ...    ...\n",
            "91    16        K     33\n",
            "92    16       QB     57\n",
            "93    16       RB    103\n",
            "94    16       TE     86\n",
            "95    16       WR    136\n",
            "\n",
            "[96 rows x 3 columns]\n"
          ]
        }
      ]
    },
    {
      "cell_type": "code",
      "source": [
        "# Speichern als CSV\n",
        "filename = f'real_projections_{year}.csv'\n",
        "all_weeks_df.to_csv(filename, index=False)\n"
      ],
      "metadata": {
        "id": "b2O3qYe93t9M"
      },
      "execution_count": null,
      "outputs": []
    }
  ]
}