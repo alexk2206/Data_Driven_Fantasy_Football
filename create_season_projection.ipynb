{
  "nbformat": 4,
  "nbformat_minor": 0,
  "metadata": {
    "colab": {
      "provenance": [],
      "authorship_tag": "ABX9TyNCSQ//B5oFgUyrp5qy3Ujw",
      "include_colab_link": true
    },
    "kernelspec": {
      "name": "python3",
      "display_name": "Python 3"
    },
    "language_info": {
      "name": "python"
    }
  },
  "cells": [
    {
      "cell_type": "markdown",
      "metadata": {
        "id": "view-in-github",
        "colab_type": "text"
      },
      "source": [
        "<a href=\"https://colab.research.google.com/github/alexk2206/Data_Driven_Fantasy_Football/blob/dev/create_season_projection.ipynb\" target=\"_parent\"><img src=\"https://colab.research.google.com/assets/colab-badge.svg\" alt=\"Open In Colab\"/></a>"
      ]
    },
    {
      "cell_type": "code",
      "execution_count": 24,
      "metadata": {
        "id": "yalsEwi81_9d"
      },
      "outputs": [],
      "source": [
        "import pandas as pd"
      ]
    },
    {
      "cell_type": "code",
      "source": [
        "year = 2024\n",
        "max_week = 18\n",
        "base_url = f'https://raw.githubusercontent.com/alexk2206/Data_Driven_Fantasy_Football/refs/heads/dev/projection_data/{year}/projections_{year}_wk'\n",
        "weekly_dfs = []"
      ],
      "metadata": {
        "id": "u6ELr5oj2I8b"
      },
      "execution_count": 25,
      "outputs": []
    },
    {
      "cell_type": "code",
      "source": [
        "for wk in range(1, max_week + 1):\n",
        "    url = f'{base_url}{wk}.csv'\n",
        "    try:\n",
        "        df = pd.read_csv(url)\n",
        "        df['week'] = wk\n",
        "        df['year'] = year\n",
        "        weekly_dfs.append(df)\n",
        "    except Exception as e:\n",
        "        print(f'Failed to load week {wk} from {url}: {e}')"
      ],
      "metadata": {
        "id": "fxC4fzM-2pW1"
      },
      "execution_count": 26,
      "outputs": []
    },
    {
      "cell_type": "code",
      "source": [
        "all_weeks_df = pd.concat(weekly_dfs, ignore_index=True)\n",
        "all_weeks_df.to_csv(f'weekly_projections_{year}.csv', index=False)"
      ],
      "metadata": {
        "id": "Qk7ozRtI6mYs"
      },
      "execution_count": 33,
      "outputs": []
    }
  ]
}