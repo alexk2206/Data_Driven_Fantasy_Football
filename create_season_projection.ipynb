{
  "nbformat": 4,
  "nbformat_minor": 0,
  "metadata": {
    "colab": {
      "provenance": [],
      "authorship_tag": "ABX9TyMBleLT9GMS5GJfVqKeyBin",
      "include_colab_link": true
    },
    "kernelspec": {
      "name": "python3",
      "display_name": "Python 3"
    },
    "language_info": {
      "name": "python"
    }
  },
  "cells": [
    {
      "cell_type": "markdown",
      "metadata": {
        "id": "view-in-github",
        "colab_type": "text"
      },
      "source": [
        "<a href=\"https://colab.research.google.com/github/alexk2206/Data_Driven_Fantasy_Football/blob/dev/create_season_projection.ipynb\" target=\"_parent\"><img src=\"https://colab.research.google.com/assets/colab-badge.svg\" alt=\"Open In Colab\"/></a>"
      ]
    },
    {
      "cell_type": "code",
      "execution_count": 8,
      "metadata": {
        "id": "yalsEwi81_9d"
      },
      "outputs": [],
      "source": [
        "import pandas as pd"
      ]
    },
    {
      "cell_type": "code",
      "source": [
        "year = 2023\n",
        "max_week = 18\n",
        "base_url = f'https://raw.githubusercontent.com/alexk2206/Data_Driven_Fantasy_Football/refs/heads/dev/projection_data/{year}/projections_{year}_wk'\n",
        "weekly_dfs = []"
      ],
      "metadata": {
        "id": "u6ELr5oj2I8b"
      },
      "execution_count": 11,
      "outputs": []
    },
    {
      "cell_type": "code",
      "source": [
        "for wk in range(1, max_week + 1):\n",
        "    url = f'{base_url}{wk}.csv'\n",
        "    try:\n",
        "        df = pd.read_csv(url)\n",
        "        df['week'] = wk\n",
        "        df['year'] = year\n",
        "        weekly_dfs.append(df)\n",
        "    except Exception as e:\n",
        "        print(f'Failed to load week {wk} from {url}: {e}')\n",
        "\n",
        "if weekly_dfs:\n",
        "    all_weeks_df = pd.concat(weekly_dfs, ignore_index=True)\n",
        "\n",
        "    # Analyse: Wie oft kommt jede Position pro Woche vor?\n",
        "    pos_counts = all_weeks_df.groupby(['week', 'position']).size().reset_index(name='count')\n",
        "    print(pos_counts)\n",
        "\n",
        "else:\n",
        "    print('No data loaded!')"
      ],
      "metadata": {
        "colab": {
          "base_uri": "https://localhost:8080/"
        },
        "id": "fxC4fzM-2pW1",
        "outputId": "5158a3f9-3b3c-4953-e8ec-5cd54b8b6e75"
      },
      "execution_count": 12,
      "outputs": [
        {
          "output_type": "stream",
          "name": "stdout",
          "text": [
            "Failed to load week 1 from https://raw.githubusercontent.com/alexk2206/Data_Driven_Fantasy_Football/refs/heads/dev/projection_data/2023/projections_2023_wk1.csv: HTTP Error 404: Not Found\n",
            "Failed to load week 2 from https://raw.githubusercontent.com/alexk2206/Data_Driven_Fantasy_Football/refs/heads/dev/projection_data/2023/projections_2023_wk2.csv: HTTP Error 404: Not Found\n",
            "Failed to load week 3 from https://raw.githubusercontent.com/alexk2206/Data_Driven_Fantasy_Football/refs/heads/dev/projection_data/2023/projections_2023_wk3.csv: HTTP Error 404: Not Found\n",
            "Failed to load week 4 from https://raw.githubusercontent.com/alexk2206/Data_Driven_Fantasy_Football/refs/heads/dev/projection_data/2023/projections_2023_wk4.csv: HTTP Error 404: Not Found\n",
            "Failed to load week 5 from https://raw.githubusercontent.com/alexk2206/Data_Driven_Fantasy_Football/refs/heads/dev/projection_data/2023/projections_2023_wk5.csv: HTTP Error 404: Not Found\n",
            "Failed to load week 6 from https://raw.githubusercontent.com/alexk2206/Data_Driven_Fantasy_Football/refs/heads/dev/projection_data/2023/projections_2023_wk6.csv: HTTP Error 404: Not Found\n",
            "Failed to load week 7 from https://raw.githubusercontent.com/alexk2206/Data_Driven_Fantasy_Football/refs/heads/dev/projection_data/2023/projections_2023_wk7.csv: HTTP Error 404: Not Found\n",
            "Failed to load week 8 from https://raw.githubusercontent.com/alexk2206/Data_Driven_Fantasy_Football/refs/heads/dev/projection_data/2023/projections_2023_wk8.csv: HTTP Error 404: Not Found\n",
            "Failed to load week 9 from https://raw.githubusercontent.com/alexk2206/Data_Driven_Fantasy_Football/refs/heads/dev/projection_data/2023/projections_2023_wk9.csv: HTTP Error 404: Not Found\n",
            "Failed to load week 10 from https://raw.githubusercontent.com/alexk2206/Data_Driven_Fantasy_Football/refs/heads/dev/projection_data/2023/projections_2023_wk10.csv: HTTP Error 404: Not Found\n",
            "Failed to load week 11 from https://raw.githubusercontent.com/alexk2206/Data_Driven_Fantasy_Football/refs/heads/dev/projection_data/2023/projections_2023_wk11.csv: HTTP Error 404: Not Found\n",
            "Failed to load week 12 from https://raw.githubusercontent.com/alexk2206/Data_Driven_Fantasy_Football/refs/heads/dev/projection_data/2023/projections_2023_wk12.csv: HTTP Error 404: Not Found\n",
            "Failed to load week 13 from https://raw.githubusercontent.com/alexk2206/Data_Driven_Fantasy_Football/refs/heads/dev/projection_data/2023/projections_2023_wk13.csv: HTTP Error 404: Not Found\n",
            "Failed to load week 14 from https://raw.githubusercontent.com/alexk2206/Data_Driven_Fantasy_Football/refs/heads/dev/projection_data/2023/projections_2023_wk14.csv: HTTP Error 404: Not Found\n",
            "Failed to load week 15 from https://raw.githubusercontent.com/alexk2206/Data_Driven_Fantasy_Football/refs/heads/dev/projection_data/2023/projections_2023_wk15.csv: HTTP Error 404: Not Found\n",
            "Failed to load week 16 from https://raw.githubusercontent.com/alexk2206/Data_Driven_Fantasy_Football/refs/heads/dev/projection_data/2023/projections_2023_wk16.csv: HTTP Error 404: Not Found\n",
            "Failed to load week 17 from https://raw.githubusercontent.com/alexk2206/Data_Driven_Fantasy_Football/refs/heads/dev/projection_data/2023/projections_2023_wk17.csv: HTTP Error 404: Not Found\n",
            "Failed to load week 18 from https://raw.githubusercontent.com/alexk2206/Data_Driven_Fantasy_Football/refs/heads/dev/projection_data/2023/projections_2023_wk18.csv: HTTP Error 404: Not Found\n",
            "No data loaded!\n"
          ]
        }
      ]
    },
    {
      "cell_type": "code",
      "source": [],
      "metadata": {
        "id": "b2O3qYe93t9M"
      },
      "execution_count": null,
      "outputs": []
    }
  ]
}