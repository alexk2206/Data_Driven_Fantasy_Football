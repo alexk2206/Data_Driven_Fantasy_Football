{
  "nbformat": 4,
  "nbformat_minor": 0,
  "metadata": {
    "colab": {
      "provenance": [],
      "authorship_tag": "ABX9TyNNAzUzq/pKeHRONu+kYx4i",
      "include_colab_link": true
    },
    "kernelspec": {
      "name": "python3",
      "display_name": "Python 3"
    },
    "language_info": {
      "name": "python"
    }
  },
  "cells": [
    {
      "cell_type": "markdown",
      "metadata": {
        "id": "view-in-github",
        "colab_type": "text"
      },
      "source": [
        "<a href=\"https://colab.research.google.com/github/alexk2206/Data_Driven_Fantasy_Football/blob/dev/nfl_data_by_rowzero.ipynb\" target=\"_parent\"><img src=\"https://colab.research.google.com/assets/colab-badge.svg\" alt=\"Open In Colab\"/></a>"
      ]
    },
    {
      "cell_type": "code",
      "source": [
        "import pandas as pd\n",
        "import plotly.graph_objects as go\n",
        "!pip install nfl_data_py\n",
        "import nfl_data_py as nfl"
      ],
      "metadata": {
        "id": "0NaOpXVfUKjn",
        "outputId": "66412d66-1082-4896-869f-891f3359a061",
        "colab": {
          "base_uri": "https://localhost:8080/"
        }
      },
      "execution_count": 5,
      "outputs": [
        {
          "output_type": "stream",
          "name": "stdout",
          "text": [
            "Requirement already satisfied: nfl_data_py in /usr/local/lib/python3.11/dist-packages (0.3.3)\n",
            "Requirement already satisfied: numpy<2.0,>=1.0 in /usr/local/lib/python3.11/dist-packages (from nfl_data_py) (1.26.4)\n",
            "Requirement already satisfied: pandas<2.0,>=1.0 in /usr/local/lib/python3.11/dist-packages (from nfl_data_py) (1.5.3)\n",
            "Requirement already satisfied: appdirs>1 in /usr/local/lib/python3.11/dist-packages (from nfl_data_py) (1.4.4)\n",
            "Requirement already satisfied: fastparquet>0.5 in /usr/local/lib/python3.11/dist-packages (from nfl_data_py) (2024.11.0)\n",
            "Requirement already satisfied: cramjam>=2.3 in /usr/local/lib/python3.11/dist-packages (from fastparquet>0.5->nfl_data_py) (2.10.0)\n",
            "Requirement already satisfied: fsspec in /usr/local/lib/python3.11/dist-packages (from fastparquet>0.5->nfl_data_py) (2025.3.2)\n",
            "Requirement already satisfied: packaging in /usr/local/lib/python3.11/dist-packages (from fastparquet>0.5->nfl_data_py) (24.2)\n",
            "Requirement already satisfied: python-dateutil>=2.8.1 in /usr/local/lib/python3.11/dist-packages (from pandas<2.0,>=1.0->nfl_data_py) (2.9.0.post0)\n",
            "Requirement already satisfied: pytz>=2020.1 in /usr/local/lib/python3.11/dist-packages (from pandas<2.0,>=1.0->nfl_data_py) (2025.2)\n",
            "Requirement already satisfied: six>=1.5 in /usr/local/lib/python3.11/dist-packages (from python-dateutil>=2.8.1->pandas<2.0,>=1.0->nfl_data_py) (1.17.0)\n"
          ]
        }
      ]
    },
    {
      "cell_type": "code",
      "source": [
        "def get_seasonal_data(year):\n",
        "    year_list = []\n",
        "    year_list.append(int(year))\n",
        "    df = nfl.import_seasonal_data(year_list)\n",
        "    id_df = nfl.import_ids()\n",
        "    id_df = id_df[['gsis_id','name']]\n",
        "    df = pd.merge(df,\n",
        "                     id_df,\n",
        "                     left_on = 'player_id',\n",
        "                     right_on = 'gsis_id',\n",
        "                     how ='left')\n",
        "    cols = df.columns.tolist()\n",
        "    cols = cols[-1:] + cols[:-2]\n",
        "    df = df[cols]\n",
        "    df = df.sort_values('name')\n",
        "\n",
        "    return df\n",
        "\n",
        "def get_weekly_data(year):\n",
        "    year_list = []\n",
        "    year_list.append(int(year))\n",
        "    df = nfl.import_weekly_data(year_list)\n",
        "\n",
        "    return df\n",
        "\n",
        "def get_play_by_play_data(year):\n",
        "    year_list = []\n",
        "    year_list.append(int(year))\n",
        "    df = nfl.import_pbp_data(year_list)\n",
        "\n",
        "    return df\n",
        "\n",
        "def get_weekly_roster_data(year):\n",
        "    year_list = []\n",
        "    year_list.append(int(year))\n",
        "    df = nfl.import_weekly_rosters(year_list)\n",
        "\n",
        "    return df\n",
        "\n",
        "def get_ngs_data(stat_type, year):\n",
        "    year_list = []\n",
        "    year_list.append(int(year))\n",
        "    df = nfl.import_ngs_data(stat_type, year_list)\n",
        "\n",
        "    return df\n",
        "\n",
        "def get_ftn_data(year):\n",
        "    year_list = []\n",
        "    year_list.append(int(year))\n",
        "    df = nfl.import_ftn_data(year_list)\n",
        "\n",
        "    return df"
      ],
      "metadata": {
        "id": "b5nUdqBh00fA"
      },
      "execution_count": 6,
      "outputs": []
    },
    {
      "cell_type": "code",
      "source": [
        "weekly_df_test = get_weekly_data(2024)\n",
        "print(f'Shape: {weekly_df_test.shape}')\n",
        "print(f'Columns: {weekly_df_test.columns}')\n",
        "print(f'Dtypes: {weekly_df_test.dtypes}')"
      ],
      "metadata": {
        "colab": {
          "base_uri": "https://localhost:8080/"
        },
        "id": "GeiAfqWgUmqM",
        "outputId": "f45ec06f-0b69-4b1d-86ba-f54edfc9c2bb"
      },
      "execution_count": 7,
      "outputs": [
        {
          "output_type": "stream",
          "name": "stdout",
          "text": [
            "Downcasting floats.\n",
            "Shape: (5597, 53)\n",
            "Columns: Index(['player_id', 'player_name', 'player_display_name', 'position',\n",
            "       'position_group', 'headshot_url', 'recent_team', 'season', 'week',\n",
            "       'season_type', 'opponent_team', 'completions', 'attempts',\n",
            "       'passing_yards', 'passing_tds', 'interceptions', 'sacks', 'sack_yards',\n",
            "       'sack_fumbles', 'sack_fumbles_lost', 'passing_air_yards',\n",
            "       'passing_yards_after_catch', 'passing_first_downs', 'passing_epa',\n",
            "       'passing_2pt_conversions', 'pacr', 'dakota', 'carries', 'rushing_yards',\n",
            "       'rushing_tds', 'rushing_fumbles', 'rushing_fumbles_lost',\n",
            "       'rushing_first_downs', 'rushing_epa', 'rushing_2pt_conversions',\n",
            "       'receptions', 'targets', 'receiving_yards', 'receiving_tds',\n",
            "       'receiving_fumbles', 'receiving_fumbles_lost', 'receiving_air_yards',\n",
            "       'receiving_yards_after_catch', 'receiving_first_downs', 'receiving_epa',\n",
            "       'receiving_2pt_conversions', 'racr', 'target_share', 'air_yards_share',\n",
            "       'wopr', 'special_teams_tds', 'fantasy_points', 'fantasy_points_ppr'],\n",
            "      dtype='object')\n",
            "Dtypes: player_id                       object\n",
            "player_name                     object\n",
            "player_display_name             object\n",
            "position                        object\n",
            "position_group                  object\n",
            "headshot_url                    object\n",
            "recent_team                     object\n",
            "season                           int32\n",
            "week                             int32\n",
            "season_type                     object\n",
            "opponent_team                   object\n",
            "completions                      int32\n",
            "attempts                         int32\n",
            "passing_yards                  float32\n",
            "passing_tds                      int32\n",
            "interceptions                  float32\n",
            "sacks                          float32\n",
            "sack_yards                     float32\n",
            "sack_fumbles                     int32\n",
            "sack_fumbles_lost                int32\n",
            "passing_air_yards              float32\n",
            "passing_yards_after_catch      float32\n",
            "passing_first_downs            float32\n",
            "passing_epa                    float32\n",
            "passing_2pt_conversions          int32\n",
            "pacr                           float32\n",
            "dakota                         float32\n",
            "carries                          int32\n",
            "rushing_yards                  float32\n",
            "rushing_tds                      int32\n",
            "rushing_fumbles                float32\n",
            "rushing_fumbles_lost           float32\n",
            "rushing_first_downs            float32\n",
            "rushing_epa                    float32\n",
            "rushing_2pt_conversions          int32\n",
            "receptions                       int32\n",
            "targets                          int32\n",
            "receiving_yards                float32\n",
            "receiving_tds                    int32\n",
            "receiving_fumbles              float32\n",
            "receiving_fumbles_lost         float32\n",
            "receiving_air_yards            float32\n",
            "receiving_yards_after_catch    float32\n",
            "receiving_first_downs          float32\n",
            "receiving_epa                  float32\n",
            "receiving_2pt_conversions        int32\n",
            "racr                           float32\n",
            "target_share                   float32\n",
            "air_yards_share                float32\n",
            "wopr                           float32\n",
            "special_teams_tds              float32\n",
            "fantasy_points                 float32\n",
            "fantasy_points_ppr             float32\n",
            "dtype: object\n"
          ]
        }
      ]
    },
    {
      "cell_type": "code",
      "source": [
        "sample_size = 3\n",
        "colums = ['player_display_name',\t'position', 'season', 'week', 'fantasy_points_ppr']\n",
        "weekly_df_test = weekly_df_test[colums]\n",
        "\n",
        "print(f'Shape: {weekly_df_test.shape}')\n",
        "print(f'Columns: {weekly_df_test.columns}')\n",
        "print(f'Dtypes: {weekly_df_test.dtypes}')\n",
        "print(f'Sample: {weekly_df_test.head(sample_size)}')"
      ],
      "metadata": {
        "colab": {
          "base_uri": "https://localhost:8080/"
        },
        "id": "QpOtmZLtV2bf",
        "outputId": "c6c56e6b-c459-4e28-a418-55de504fa9f2"
      },
      "execution_count": 8,
      "outputs": [
        {
          "output_type": "stream",
          "name": "stdout",
          "text": [
            "Shape: (5597, 5)\n",
            "Columns: Index(['player_display_name', 'position', 'season', 'week',\n",
            "       'fantasy_points_ppr'],\n",
            "      dtype='object')\n",
            "Dtypes: player_display_name     object\n",
            "position                object\n",
            "season                   int32\n",
            "week                     int32\n",
            "fantasy_points_ppr     float32\n",
            "dtype: object\n",
            "Sample:   player_display_name position  season  week  fantasy_points_ppr\n",
            "0       Aaron Rodgers       QB    2024     1            8.580000\n",
            "1       Aaron Rodgers       QB    2024     2           15.140000\n",
            "2       Aaron Rodgers       QB    2024     3           21.040001\n"
          ]
        }
      ]
    },
    {
      "cell_type": "code",
      "source": [],
      "metadata": {
        "id": "3b4Qzl2wbjFX"
      },
      "execution_count": null,
      "outputs": []
    }
  ]
}